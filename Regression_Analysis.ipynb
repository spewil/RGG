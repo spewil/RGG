{
 "cells": [
  {
   "cell_type": "code",
   "execution_count": 1,
   "metadata": {
    "collapsed": false,
    "deletable": true,
    "editable": true
   },
   "outputs": [],
   "source": [
    "%matplotlib inline \n",
    "import numpy as np\n",
    "import matplotlib.pyplot as plt \n",
    "import experiment as ex\n",
    "from network_generation import generation as ng\n",
    "from scipy import optimize\n",
    "from scipy.odr import * \n",
    "   \n",
    "def find_ER_nD(kappa, plot=False):\n",
    "        \n",
    "    # make sure this is a float!\n",
    "    z0 = float(kappa/2)\n",
    "    w1irange = np.arange(0,1,.01)\n",
    "    w1o = lambda x: np.exp(-z0*np.exp(-z0*x))\n",
    "    w1i = lambda y: -(1/z0)*np.log((1/z0)*np.log(1/y))\n",
    "\n",
    "    if plot:\n",
    "        plt.figure()\n",
    "        plt.plot(w1irange,[w1o(i) for i in w1irange])\n",
    "        plt.plot(w1irange,w1irange,'k-')\n",
    "        \n",
    "        w1o = lambda x: np.exp(-z0*np.exp(-z0*x))\n",
    "    w1i = lambda y: -(1/z0)*np.log((1/z0)*np.log(1/y))\n",
    "    \n",
    "    # BABY NEWTON METHOD \n",
    "    xold = 0.5\n",
    "    yold = 0.5\n",
    "    check = 100\n",
    "    while abs(check)>0.001:\n",
    "\n",
    "        # move up\n",
    "        ynew = w1o(xold)\n",
    "        # move right \n",
    "        xnew = ynew\n",
    "        \n",
    "        if plot: \n",
    "            plt.plot((xold,xold),(yold,ynew),'r-')\n",
    "            plt.plot((xold,xnew),(ynew,ynew),'r-')\n",
    "\n",
    "        # compute check \n",
    "        check = xold - xnew \n",
    "\n",
    "        # update for next iteration\n",
    "        xold = xnew \n",
    "        yold = ynew\n",
    "\n",
    "    w1 = xnew \n",
    "    w2 = 1 - np.exp(-z0*w1)\n",
    "    nD = w1 - w2 + z0*w1*(1-w2)\n",
    "\n",
    "    return nD"
   ]
  },
  {
   "cell_type": "markdown",
   "metadata": {
    "deletable": true,
    "editable": true
   },
   "source": [
    "# Ordinary Nonlinear Least Squares "
   ]
  },
  {
   "cell_type": "markdown",
   "metadata": {
    "deletable": true,
    "editable": true
   },
   "source": [
    "Here we want to explore the fitting of the curve to extract the scaling. We will play around with the nonlinear least squares routine in scipy to determine a good fit. "
   ]
  },
  {
   "cell_type": "code",
   "execution_count": 2,
   "metadata": {
    "collapsed": false,
    "deletable": true,
    "editable": true
   },
   "outputs": [
    {
     "name": "stdout",
     "output_type": "stream",
     "text": [
      "(array([-0.40533452]), array([[  9.46807077e-05]]))\n"
     ]
    },
    {
     "data": {
      "text/plain": [
       "<matplotlib.legend.Legend at 0x106ecfb10>"
      ]
     },
     "execution_count": 2,
     "metadata": {},
     "output_type": "execute_result"
    },
    {
     "data": {
      "image/png": "[encoded data removed]",
      "text/plain": [
       "<matplotlib.figure.Figure at 0x106dc00d0>"
      ]
     },
     "metadata": {},
     "output_type": "display_data"
    }
   ],
   "source": [
    "plt.figure(2)\n",
    "\n",
    "# load and plot ER data \n",
    "kappa_range = [1,3,5,10,15,20]\n",
    "n = 100\n",
    "\n",
    "# ER SIMULATION\n",
    "ERE = ex.ERExperiment(kappa_range, n)\n",
    "plt.errorbar(ERE.mean_degree_list,ERE.mean_nD_list,fmt='ro',markersize=3,ecolor='r',xerr=ERE.std_degree_list,yerr=ERE.std_nD_list)\n",
    "\n",
    "# ER THEORY\n",
    "kappa_range = np.arange(.1,30,.01)\n",
    "nD_list = []\n",
    "for kappa in kappa_range:\n",
    "    nD_list.append(find_ER_nD(kappa))\n",
    "plt.plot(kappa_range,nD_list,'b-.')\n",
    "\n",
    "# ER FITTING OLS \n",
    "popt = optimize.curve_fit(lambda t,b:np.exp(b*t), ERE.mean_degree_list, ERE.mean_nD_list)#,p0=(1,-0.5))#, sigma=ERE.std_nD_list,absolute_sigma=False)\n",
    "print popt\n",
    "plt.plot(kappa_range,np.exp(popt[0][0]*kappa_range),'k--')\n",
    "\n",
    "plt.xlabel('$\\\\langle{k}\\\\rangle$')\n",
    "plt.ylabel('Number of Driver Nodes $n_D$')\n",
    "leg_str = ['Simulation','Cavity Method','Curve Fit']\n",
    "plt.legend(leg_str[::-1])\n",
    "# plt.xlim([5,20])\n",
    "# plt.ylim([0,.2])\n",
    "\n",
    "# residual \n",
    "plt.figure(4)\n",
    "fit = [np.exp(k*output.beta[0]) for k in kappa_range]\n",
    "res = np.abs(np.subtract(y,fit)) \n",
    "plt.errorbar(kappa_range,res,yerr=np.sqrt(output_full.res_var))\n",
    "plt.xlabel('$\\\\langle{\\\\kappa}\\\\rangle$')\n",
    "plt.ylabel('residual')"
   ]
  },
  {
   "cell_type": "markdown",
   "metadata": {
    "deletable": true,
    "editable": true
   },
   "source": [
    "# Orthogonal Distance Regression\n",
    "\n",
    "Here, we utilize Boggs's weighted ODR routine ported to scipy from fortran. We will compare the results to normal NLS "
   ]
  },
  {
   "cell_type": "code",
   "execution_count": 4,
   "metadata": {
    "collapsed": false,
    "deletable": true,
    "editable": true
   },
   "outputs": [
    {
     "name": "stdout",
     "output_type": "stream",
     "text": [
      "100\n",
      "[0.042056509603151805, 0.040892419835465842, 0.02947880594596735, 0.012346659467240522, 0.0087607077339676154, 0.0019595917942265427, 0.0]\n",
      "(array([-0.4009738]), array([[  7.96304912e-05]]))\n"
     ]
    },
    {
     "data": {
      "text/plain": [
       "<matplotlib.text.Text at 0x108d4afd0>"
      ]
     },
     "execution_count": 4,
     "metadata": {},
     "output_type": "execute_result"
    },
    {
     "data": {
      "image/png": "[encoded data removed]",
      "text/plain": [
       "<matplotlib.figure.Figure at 0x107d4df10>"
      ]
     },
     "metadata": {},
     "output_type": "display_data"
    },
    {
     "data": {
      "image/png": "[encoded data removed]",
      "text/plain": [
       "<matplotlib.figure.Figure at 0x108b36810>"
      ]
     },
     "metadata": {},
     "output_type": "display_data"
    },
    {
     "data": {
      "image/png": "[encoded data removed]",
      "text/plain": [
       "<matplotlib.figure.Figure at 0x107fa2550>"
      ]
     },
     "metadata": {},
     "output_type": "display_data"
    }
   ],
   "source": [
    "plt.figure(3)\n",
    "\n",
    "### DATA ###\n",
    "kappa_range = [1,3,5,8,10,15,20]\n",
    "n = 100\n",
    "\n",
    "ERE = ex.ERExperiment(kappa_range, n)\n",
    "print ERE.ensembles[0].get_num_samples()\n",
    "mean_degree_list, std_degree_list, stddev_degree_list = ERE.find_degree_stats()\n",
    "mean_nD_list, std_nD_list, stddev_nD_list = ERE.find_nD_stats()\n",
    "\n",
    "print stddev_nD_list\n",
    "\n",
    "sim = plt.errorbar(mean_degree_list,mean_nD_list,fmt='ro',markersize=3,ecolor='r',xerr=std_degree_list,yerr=std_nD_list)\n",
    "\n",
    "kappa_range_fine = np.arange(.1,30,.01)\n",
    "nD_list = []\n",
    "for kappa in kappa_range_fine:\n",
    "    nD_list.append(find_ER_nD(kappa))\n",
    "theory, = plt.plot(kappa_range_fine,nD_list,'b-.')\n",
    "\n",
    "#### ODR ####\n",
    "\n",
    "# first run OLS to get a guess # \n",
    "popt = optimize.curve_fit(lambda t,b:np.exp(b*t), mean_degree_list, mean_nD_list)#,p0=(1,-0.5))#, sigma=ERE.std_nD_list,absolute_sigma=False)\n",
    "print popt\n",
    "\n",
    "# MODEL\n",
    "def f(B, x):\n",
    "    return np.exp(B[0]*x)\n",
    "\n",
    "x = mean_degree_list\n",
    "y = mean_nD_list \n",
    "wx = [s+1 for s in std_degree_list]\n",
    "wy = [s+1 for s in std_nD_list] \n",
    "\n",
    "exponential = Model(f)\n",
    "data = Data(x, y, wd=wx, we=wy)\n",
    "odr = ODR(data, exponential, beta0=popt[0])\n",
    "output = odr.run()\n",
    "\n",
    "fit, = plt.plot(kappa_range_fine,np.exp(output.beta[0]*kappa_range_fine),'k--')\n",
    "\n",
    "thermo, = plt.plot(kappa_range,[np.exp(-kappa/2) for kappa in kappa_range])\n",
    "\n",
    "plt.xlabel('$\\\\langle{k}\\\\rangle$')\n",
    "plt.ylabel('Number of Driver Nodes $n_D$')\n",
    "leg_str = ['Simulation','Cavity Method','ODR Fit','Asymptotic Scaling']\n",
    "plt.legend([sim,theory,fit,thermo],leg_str)\n",
    "\n",
    "# # residual \n",
    "# plt.figure(4)\n",
    "# fit = [np.exp(k*output.beta[0]) for k in kappa_range]\n",
    "# res = np.abs(np.subtract(y,fit)) \n",
    "# plt.errorbar(kappa_range,res,yerr=np.sqrt(output.res_var))\n",
    "# plt.xlabel('$\\\\langle{\\\\kappa}\\\\rangle$')\n",
    "# plt.ylabel('residual')\n",
    "\n",
    "# # standard errors \n",
    "# plt.figure(5)\n",
    "# ERdegstd, = plt.plot(kappa_range,stddev_degree_list)\n",
    "# ERnDstd, = plt.plot(kappa_range,stddev_nD_list)\n",
    "# plt.legend([ERdegstd, ERnDstd],['degree std','nD std'])\n",
    "# plt.xlabel('average mean degree $\\\\langle{k}\\\\rangle$')"
   ]
  },
  {
   "cell_type": "markdown",
   "metadata": {
    "deletable": true,
    "editable": true
   },
   "source": [
    "# Data Generation"
   ]
  },
  {
   "cell_type": "code",
   "execution_count": 9,
   "metadata": {
    "collapsed": false,
    "deletable": true,
    "editable": true
   },
   "outputs": [
    {
     "name": "stdout",
     "output_type": "stream",
     "text": [
      "running 42 generations\n",
      "saved run 1\n",
      "saved run 2\n",
      "saved run 3\n",
      "saved run 4\n",
      "saved run 5\n",
      "saved run 6\n",
      "saved run 7\n",
      "saved run 8\n",
      "saved run 9\n",
      "saved run 10\n",
      "saved run 11\n",
      "saved run 12\n",
      "saved run 13\n",
      "saved run 14\n",
      "saved run 15\n",
      "saved run 16\n",
      "saved run 17\n",
      "saved run 18\n",
      "saved run 19\n",
      "saved run 20\n",
      "saved run 21\n",
      "saved run 22\n",
      "saved run 23\n",
      "saved run 24\n",
      "saved run 25\n",
      "saved run 26\n",
      "saved run 27\n",
      "saved run 28\n",
      "saved run 29\n",
      "saved run 30\n",
      "saved run 31\n",
      "saved run 32\n",
      "saved run 33\n",
      "saved run 34\n",
      "saved run 35\n",
      "saved run 36\n",
      "saved run 37\n",
      "saved run 38\n",
      "saved run 39\n",
      "saved run 40\n",
      "saved run 41\n",
      "saved run 42\n"
     ]
    }
   ],
   "source": [
    "# GENERATE RGG DATA \n",
    "\n",
    "import network_generation.generation as ng\n",
    "\n",
    "kappa_range = [1,3,5,8,10,15,20]\n",
    "n_range = [100]\n",
    "d_range = [2,3,6,9,15,25]\n",
    "boundaries = ['p']#['s','p','g']\n",
    "num_samples = 100\n",
    "\n",
    "print 'running ' + str(len(n_range)*len(d_range)*len(boundaries)*len(kappa_range)) + ' generations'\n",
    "i=1\n",
    "\n",
    "## RGGs ##\n",
    "for kappa in kappa_range:\n",
    "    for n in n_range:\n",
    "        for d in d_range:\n",
    "            for boundary in boundaries: \n",
    "                RGG = ng.RGGEnsemble(kappa, n, d, boundary=boundary, num_radii=10)\n",
    "                RGG.generate_samples(n=num_samples)\n",
    "                # data to disk \n",
    "                RGG.to_disk()\n",
    "                print 'saved run ' + str(i)\n",
    "                i+=1 "
   ]
  },
  {
   "cell_type": "code",
   "execution_count": 9,
   "metadata": {
    "collapsed": false,
    "deletable": true,
    "editable": true
   },
   "outputs": [
    {
     "name": "stdout",
     "output_type": "stream",
     "text": [
      "running 7 generations\n",
      "saved run 1\n",
      "saved run 2\n",
      "saved run 3\n",
      "saved run 4\n",
      "saved run 5\n",
      "saved run 6\n",
      "saved run 7\n"
     ]
    }
   ],
   "source": [
    "# GENERATE ER DATA \n",
    "kappa_range = [1,3,5,8,10,15,20]\n",
    "n_range = [1000]\n",
    "num_samples = 100\n",
    "print 'running ' + str(len(n_range)*len(kappa_range)) + ' generations'\n",
    "i=1\n",
    "for kappa in kappa_range:\n",
    "    for n in n_range:\n",
    "        # make an ER Ensemble\n",
    "        ER = ng.EREnsemble(kappa,n)\n",
    "        # generate samples \n",
    "        # sample data is stored in the object \n",
    "        ER.generate_samples(n=num_samples)\n",
    "        # data to disk \n",
    "        ER.to_disk()\n",
    "        print 'saved run ' + str(i)\n",
    "        i+=1 "
   ]
  },
  {
   "cell_type": "markdown",
   "metadata": {
    "deletable": true,
    "editable": true
   },
   "source": [
    "## regression without LCC"
   ]
  },
  {
   "cell_type": "code",
   "execution_count": null,
   "metadata": {
    "collapsed": false,
    "deletable": true,
    "editable": true
   },
   "outputs": [
    {
     "name": "stdout",
     "output_type": "stream",
     "text": [
      "ER sim done gamma = -0.400670343913 +/- 0.00913179122674\n",
      "2th dimension done\n",
      "3th dimension done\n",
      "6th dimension done\n",
      "9th dimension done\n"
     ]
    }
   ],
   "source": [
    "# set up plots and axes \n",
    "ndkfig = plt.figure(1)\n",
    "ndkax = ndkfig.add_subplot(1,1,1)\n",
    "gdfig = plt.figure(2)\n",
    "gdax = gdfig.add_subplot(1,1,1)\n",
    "\n",
    "# MODEL\n",
    "def f(B, x):\n",
    "    return np.exp(B[0]*x)\n",
    "\n",
    "# params\n",
    "kappa_range = [1,3,5,8,10,15,20]\n",
    "kappa_range_fine = np.arange(.1,22,.01)\n",
    "n = 1000\n",
    "boundaries = ['s','p']\n",
    "d_range = [2,3,6,9,15,25]\n",
    "\n",
    "## ER \n",
    "gdhandles = []\n",
    "ndkhandles = []\n",
    "gdlegend = []\n",
    "ndklegend = []\n",
    "\n",
    "# ER data and fit\n",
    "ERE = ex.ERExperiment(kappa_range, n)\n",
    "# plt.errorbar(ERE.mean_degree_list,ERE.mean_nD_list,fmt='ro',markersize=3,ecolor='r',xerr=ERE.std_degree_list,yerr=ERE.std_nD_list)\n",
    "\n",
    "mean_degree_list, std_degree_list, _ = ERE.find_degree_stats()\n",
    "mean_nD_list, std_nD_list, _ = ERE.find_nD_stats()\n",
    "\n",
    "x = mean_degree_list\n",
    "y = mean_nD_list \n",
    "wx = [s+1 for s in std_degree_list]\n",
    "wy = [s+1 for s in std_nD_list] \n",
    "\n",
    "# fitting \n",
    "# popt = optimize.curve_fit(lambda t,b:np.exp(b*t), RGG.mean_degree_list, RGG.mean_nD_list)\n",
    "popt = [[-0.5]]\n",
    "exponential = Model(f)\n",
    "data = Data(x, y, wd=wx, we=wy)\n",
    "odr = ODR(data, exponential, beta0=popt[0])\n",
    "output = odr.run()\n",
    "ndkhandle, = ndkax.plot(kappa_range_fine,f(output.beta,kappa_range_fine),'--')\n",
    "    \n",
    "ndkhandles.append(ndkhandle)\n",
    "ndklegend.append('ER Simulation')\n",
    "\n",
    "ERline, = gdax.plot([min(d_range),max(d_range)],[output.beta[0],output.beta[0]],'k-')\n",
    "gdax.plot([min(d_range),max(d_range)],[output.beta[0]+output.sd_beta[0],output.beta[0]+output.sd_beta[0]],'k--')\n",
    "gdax.plot([min(d_range),max(d_range)],[output.beta[0]-output.sd_beta[0],output.beta[0]-output.sd_beta[0]],'k--')\n",
    "gdhandles.append(ERline)\n",
    "gdlegend.append('ER gamma')\n",
    "\n",
    "print 'ER sim done', 'gamma = ' + str(output.beta[0]) + ' +/- ' + str(output.sd_beta[0])\n",
    "    \n",
    "# # ER theory \n",
    "# kappa_range_fine = np.arange(.1,22,.01)\n",
    "# nD_list = []\n",
    "# for kappa in kappa_range_fine:\n",
    "#     nD_list.append(find_ER_nD(kappa))\n",
    "# plt.plot(kappa_range_fine,nD_list,'k--')    \n",
    "\n",
    "# print 'ER theory done'\n",
    "\n",
    "## RGG \n",
    "for boundary in boundaries:\n",
    "    if boundary == 's':\n",
    "        color = 'r'\n",
    "    elif boundary == 'p':\n",
    "        color = 'b'\n",
    "    gammas = []\n",
    "    gamma_errs = []\n",
    "    for d in d_range:\n",
    "        RGG = ex.RGGExperiment(kappa_range, n, d, shortcut_prob=0, boundary=boundary, num_radii=10)\n",
    "\n",
    "        mean_degree_list, std_degree_list, _ = RGG.find_degree_stats()\n",
    "        mean_nD_list, std_nD_list, _ = RGG.find_nD_stats()\n",
    "\n",
    "        x = mean_degree_list\n",
    "        y = mean_nD_list\n",
    "\n",
    "        # plt.errorbar(x, y, fmt='none', yerr=RGG.std_nD_list, xerr=RGG.std_degree_list)\n",
    "        # fitting \n",
    "        # popt = optimize.curve_fit(lambda t,b:np.exp(b*t), RGG.mean_degree_list, RGG.mean_nD_list)\n",
    "        popt = [[-0.5]]\n",
    "        wx = [s+1 for s in std_degree_list]\n",
    "        wy = [s+1 for s in std_nD_list] \n",
    "\n",
    "        exponential = Model(f)\n",
    "        data = Data(x, y, wd=wx, we=wy)\n",
    "        odr = ODR(data, exponential, beta0=popt[0])\n",
    "        output = odr.run()\n",
    "\n",
    "        ndkhandle, = ndkax.plot(kappa_range_fine,f(output.beta,kappa_range_fine),'-')\n",
    "        ndkhandles.append(ndkhandle)\n",
    "        ndklegend.append('d='+str(d)+', n='+str(n))\n",
    "\n",
    "        gammas.append(output.beta[0])\n",
    "        # 95% confidence is 2*standard error \n",
    "        gamma_errs.append(output.sd_beta[0])\n",
    "        print str(d) +'th dimension done'\n",
    "\n",
    "    gdhandle = gdax.errorbar(d_range,gammas,yerr=gamma_errs,fmt=color+'o')\n",
    "    gdhandles.append(gdhandle)\n",
    "    gdlegend.append('n = '+str(n))\n",
    "\n",
    "ndkax.set_xlabel('Average Mean Degree $\\\\langle{k}\\\\rangle$')\n",
    "ndkax.set_ylabel('Fraction of Driver Nodes $n_D$')\n",
    "ndkax.legend(ndkhandles,ndklegend,loc='upper right')\n",
    "\n",
    "gdax.set_xlabel('Dimension $d$')\n",
    "gdax.set_ylabel('Scaling Parameter $\\\\gamma$')\n",
    "gdax.legend(gdhandles,gdlegend,loc='upper left')\n",
    "\n",
    "# ndkfig.tight_layout()\n",
    "gdfig.tight_layout()\n",
    "# ndkfig.savefig('./plots/k_nD_fits_N_' + str(n) + '_BC_' + boundary + '.eps',dpi=800)\n",
    "gdfig.savefig('./plots/gamma_d_BC_' + '_N_' + str(n) + '.eps',dpi=800)"
   ]
  },
  {
   "cell_type": "markdown",
   "metadata": {
    "deletable": true,
    "editable": true
   },
   "source": [
    "# regression for N=1000 using LCC"
   ]
  },
  {
   "cell_type": "code",
   "execution_count": 1,
   "metadata": {
    "collapsed": false,
    "deletable": true,
    "editable": true
   },
   "outputs": [
    {
     "ename": "NameError",
     "evalue": "name 'plt' is not defined",
     "output_type": "error",
     "traceback": [
      "\u001b[0;31m---------------------------------------------------------------------------\u001b[0m",
      "\u001b[0;31mNameError\u001b[0m                                 Traceback (most recent call last)",
      "\u001b[0;32m<ipython-input-1-0d72b68116bf>\u001b[0m in \u001b[0;36m<module>\u001b[0;34m()\u001b[0m\n\u001b[1;32m      1\u001b[0m \u001b[0;31m# set up plots and axes\u001b[0m\u001b[0;34m\u001b[0m\u001b[0;34m\u001b[0m\u001b[0m\n\u001b[1;32m      2\u001b[0m \u001b[0;34m\u001b[0m\u001b[0m\n\u001b[0;32m----> 3\u001b[0;31m \u001b[0mndkfig\u001b[0m \u001b[0;34m=\u001b[0m \u001b[0mplt\u001b[0m\u001b[0;34m.\u001b[0m\u001b[0mfigure\u001b[0m\u001b[0;34m(\u001b[0m\u001b[0;36m1\u001b[0m\u001b[0;34m)\u001b[0m\u001b[0;34m\u001b[0m\u001b[0m\n\u001b[0m\u001b[1;32m      4\u001b[0m \u001b[0mndkax\u001b[0m \u001b[0;34m=\u001b[0m \u001b[0mndkfig\u001b[0m\u001b[0;34m.\u001b[0m\u001b[0madd_subplot\u001b[0m\u001b[0;34m(\u001b[0m\u001b[0;36m1\u001b[0m\u001b[0;34m,\u001b[0m\u001b[0;36m1\u001b[0m\u001b[0;34m,\u001b[0m\u001b[0;36m1\u001b[0m\u001b[0;34m)\u001b[0m\u001b[0;34m\u001b[0m\u001b[0m\n\u001b[1;32m      5\u001b[0m \u001b[0mgdfig\u001b[0m \u001b[0;34m=\u001b[0m \u001b[0mplt\u001b[0m\u001b[0;34m.\u001b[0m\u001b[0mfigure\u001b[0m\u001b[0;34m(\u001b[0m\u001b[0;36m2\u001b[0m\u001b[0;34m)\u001b[0m\u001b[0;34m\u001b[0m\u001b[0m\n",
      "\u001b[0;31mNameError\u001b[0m: name 'plt' is not defined"
     ]
    }
   ],
   "source": [
    "# set up plots and axes \n",
    "\n",
    "ndkfig = plt.figure(1)\n",
    "ndkax = ndkfig.add_subplot(1,1,1)\n",
    "gdfig = plt.figure(2)\n",
    "gdax = gdfig.add_subplot(1,1,1)\n",
    "\n",
    "# MODEL\n",
    "def f(B, x):\n",
    "    return np.exp(B[0]*x)\n",
    "\n",
    "# load and plot ER data \n",
    "kappa_range = [10,15,20]\n",
    "kappa_range_fine = np.arange(5,22,.01)\n",
    "n = 1000\n",
    "\n",
    "gdhandles = []\n",
    "ndkhandles = []\n",
    "gdlegend = []\n",
    "ndklegend = []\n",
    "\n",
    "# ER data and fit\n",
    "ERE = ex.ERExperiment(kappa_range, n)\n",
    "ERE.to_LCC()\n",
    "# plt.errorbar(ERE.mean_degree_list,ERE.mean_nD_list,fmt='ro',markersize=3,ecolor='r',xerr=ERE.std_degree_list,yerr=ERE.std_nD_list)\n",
    "\n",
    "mean_degree_list, std_degree_list, = ERE.find_degree_stats()\n",
    "mean_nD_list, std_nD_list, = ERE.find_nD_stats()\n",
    "\n",
    "x = mean_degree_list\n",
    "y = mean_nD_list \n",
    "wx = [s+1 for s in std_degree_list]\n",
    "wy = [s+1 for s in std_nD_list] \n",
    "\n",
    "exponential = Model(f)\n",
    "data = Data(x, y, wd=wx, we=wy)\n",
    "odr = ODR(data, exponential, beta0=[-0.5])\n",
    "output = odr.run()\n",
    "\n",
    "ndkhandle, = ndkax.plot(kappa_range_fine,f(output.beta,kappa_range_fine),'--')\n",
    "ndkhandles.append(ndkhandle)\n",
    "ndklegend.append('ER Simulation')\n",
    "\n",
    "ERline, = gdax.plot([min(d_range),max(d_range)],[output.beta[0],output.beta[0]],'r-')\n",
    "gdax.plot([min(d_range),max(d_range)],[output.beta[0]+output.sd_beta[0],output.beta[0]+output.sd_beta[0]],'r--')\n",
    "gdax.plot([min(d_range),max(d_range)],[output.beta[0]-output.sd_beta[0],output.beta[0]-output.sd_beta[0]],'r--')\n",
    "gdhandles.append(ERline)\n",
    "gdlegend.append('ER gamma')\n",
    "\n",
    "print 'ER sim done', 'gamma = ' + str(output.beta[0]) + ' +/- ' + str(output.sd_beta[0])\n",
    "\n",
    "## RGG \n",
    "boundary = 'p'\n",
    "d_range = [2,3,6,9,15,25]\n",
    "\n",
    "gammas = []\n",
    "gamma_errs = []\n",
    "for d in d_range:\n",
    "    RGG = ex.RGGExperiment(kappa_range, n, d, shortcut_prob=0, boundary=boundary, num_radii=10)\n",
    "    RGG.to_LCC()\n",
    "    \n",
    "    mean_degree_list, std_degree_list, = RGG.find_degree_stats()\n",
    "    mean_nD_list, std_nD_list, = RGG.find_nD_stats()\n",
    "    \n",
    "    x = mean_degree_list\n",
    "    y = mean_nD_list \n",
    "    # plt.errorbar(x, y, fmt='none', yerr=RGG.std_nD_list, xerr=RGG.std_degree_list)\n",
    "    # fitting \n",
    "    # popt = optimize.curve_fit(lambda t,b:np.exp(b*t), RGG.mean_degree_list, RGG.mean_nD_list)\n",
    "    wx = [s+1 for s in std_degree_list]\n",
    "    wy = [s+1 for s in std_nD_list] \n",
    "\n",
    "    # ODR code \n",
    "    exponential = Model(f)\n",
    "    data = Data(x, y, wd=wx, we=wy)\n",
    "    odr = ODR(data, exponential, beta0=[-0.5])\n",
    "    output = odr.run()\n",
    "    \n",
    "    ndkhandle, = ndkax.plot(kappa_range_fine,f(output.beta,kappa_range_fine),'-')\n",
    "    ndkhandles.append(ndkhandle)\n",
    "    ndklegend.append('d='+str(d)+', n='+str(n))\n",
    "\n",
    "    gammas.append(output.beta[0])\n",
    "    # 95% confidence is 2*standard error \n",
    "    gamma_errs.append(output.sd_beta[0])\n",
    "    print str(d) +'th dimension done'\n",
    "\n",
    "gdhandle = gdax.errorbar(d_range,gammas,yerr=gamma_errs,fmt='o')\n",
    "gdhandles.append(gdhandle)\n",
    "gdlegend.append('n='+str(n))\n",
    "\n",
    "ndkax.set_xlabel('Average Mean Degree $\\\\langle{k}\\\\rangle$')\n",
    "ndkax.set_ylabel('Fraction of Driver Nodes $n_D$')\n",
    "ndkax.legend(ndkhandles,ndklegend,loc='upper left')\n",
    "\n",
    "gdax.set_xlabel('Dimension $d$')\n",
    "gdax.set_ylabel('Scaling Parameter $\\\\gamma$')\n",
    "gdax.legend(gdhandles,gdlegend,loc='lower right')\n",
    "\n",
    "ndkfig.tight_layout()\n",
    "gdfig.tight_layout()\n",
    "ndkfig.savefig('./plots/k_nD_LCC_fits_N_' + str(n) + '_BC_' + boundary + '.eps',dpi=800)\n",
    "gdfig.savefig('./plots/gamma_d_LCC_BC_' + boundary + '_N_' + str(n) + '.eps',dpi=800)"
   ]
  },
  {
   "cell_type": "code",
   "execution_count": null,
   "metadata": {
    "collapsed": true,
    "deletable": true,
    "editable": true
   },
   "outputs": [],
   "source": []
  }
 ],
 "metadata": {
  "kernelspec": {
   "display_name": "Python 2",
   "language": "python",
   "name": "python2"
  },
  "language_info": {
   "codemirror_mode": {
    "name": "ipython",
    "version": 2
   },
   "file_extension": ".py",
   "mimetype": "text/x-python",
   "name": "python",
   "nbconvert_exporter": "python",
   "pygments_lexer": "ipython2",
   "version": "2.7.13"
  },
  "latex_envs": {
   "LaTeX_envs_menu_present": true,
   "autocomplete": true,
   "bibliofile": "biblio.bib",
   "cite_by": "apalike",
   "current_citInitial": 1,
   "eqLabelWithNumbers": true,
   "eqNumInitial": 1,
   "hotkeys": {
    "equation": "Ctrl-E",
    "itemize": "Ctrl-I"
   },
   "labels_anchors": false,
   "latex_user_defs": false,
   "report_style_numbering": false,
   "user_envs_cfg": false
  }
 },
 "nbformat": 4,
 "nbformat_minor": 2
}
