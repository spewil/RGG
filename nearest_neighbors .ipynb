{
 "cells": [
  {
   "cell_type": "code",
   "execution_count": 10,
   "metadata": {
    "collapsed": true,
    "deletable": true,
    "editable": true
   },
   "outputs": [],
   "source": [
    "%matplotlib inline \n",
    "import experiment as ex\n",
    "import network_generation.generation as ng \n",
    "import matplotlib.pyplot as plt \n",
    "import numpy as np\n",
    "from scipy import stats\n",
    "import math"
   ]
  },
  {
   "cell_type": "markdown",
   "metadata": {
    "deletable": true,
    "editable": true
   },
   "source": [
    "algorithm: \n",
    "- make a graph sample \n",
    "- compute distance matrix of the sample (NxN)\n",
    "- isolate the driver nodes \n",
    "    - find nearest neighbor pairs from driver submatrix \n",
    "- take a random sample of nodes (random submatrix (N_DxN_D) )\n",
    "    \n",
    "function: \n",
    "- find the nearest neighbors (by euclidean distance) of each node in a set of nodes     "
   ]
  },
  {
   "cell_type": "code",
   "execution_count": 4,
   "metadata": {
    "collapsed": false,
    "deletable": true,
    "editable": true
   },
   "outputs": [],
   "source": [
    "# compute the distance matrix of a set of nodes \n",
    "# positions is an N x d matrix of floats  \n",
    "def compute_distance_matrix(positions):\n",
    "    \n",
    "    # number of nodes \n",
    "    n = len(positions)\n",
    "    # number of dimensions \n",
    "    dim = len(positions[0])\n",
    "    \n",
    "    d = np.zeros((n,n))\n",
    "    \n",
    "    # upper triangle \n",
    "    for i in xrange(n):\n",
    "        # some 'large' number for self distance\n",
    "        d[i][i] = 100\n",
    "        for j in xrange(i+1,n):\n",
    "            dij = 0 \n",
    "            # for each dimension \n",
    "            for k in xrange(dim):\n",
    "                # compute distance \n",
    "                dist = abs(positions[i][k] - positions[j][k])\n",
    "                dij += dist**2 \n",
    "                \n",
    "            # assign matrix element \n",
    "            d[i][j] = dij**0.5\n",
    "                \n",
    "    # symmetric \n",
    "    d = d + d.T \n",
    "    \n",
    "    return d \n"
   ]
  },
  {
   "cell_type": "code",
   "execution_count": 5,
   "metadata": {
    "collapsed": true,
    "deletable": true,
    "editable": true
   },
   "outputs": [],
   "source": [
    "# given a distance matrix (list of lists), find the nearest neighbor pairs\n",
    "def find_nearest_neighbors(matrix):\n",
    "    \n",
    "    # number of nodes \n",
    "    n = len(matrix)\n",
    "    \n",
    "    pairs = []\n",
    "    distances = []\n",
    "    # loop over each row\n",
    "    for i in range(n):\n",
    "        # get min of the i'th row \n",
    "        val, idx = min((val, idx) for (idx, val) in enumerate(matrix[i]))\n",
    "        # check if the pair is already found -- only want unique distances \n",
    "        if [idx,i] in pairs:\n",
    "            pass\n",
    "        else:\n",
    "            pairs.append([i,idx])\n",
    "            distances.append(val)\n",
    "        \n",
    "    return np.array(distances) #, np.array(pairs) "
   ]
  },
  {
   "cell_type": "code",
   "execution_count": 6,
   "metadata": {
    "collapsed": true,
    "deletable": true,
    "editable": true
   },
   "outputs": [],
   "source": [
    "# given a distance matrix (list of lists), \n",
    "# find the mean of the 10% shortest nearest neighbor pairs\n",
    "\n",
    "def find_mean_nearest_neighbors(matrix):\n",
    "    \n",
    "    # number of nodes \n",
    "    n = len(matrix)\n",
    "    \n",
    "    pairs = []\n",
    "    nn_distances = []\n",
    "    # loop over each row\n",
    "    for i in range(n):\n",
    "        # get min of the i'th row \n",
    "        val, idx = min((val, idx) for (idx, val) in enumerate(matrix[i]))\n",
    "        \n",
    "        # check if the pair is already found -- only want unique distances \n",
    "#         if [idx,i] in pairs:\n",
    "#             pass\n",
    "#         else:\n",
    "        pairs.append([i,idx])\n",
    "        nn_distances.append(val)\n",
    "        \n",
    "        # find shortest 10% of distances \n",
    "    cutoff_idx = int(math.ceil(0.1*len(nn_distances)))\n",
    "    # throw out the shortest neighbor distance \n",
    "    mean_shortest = np.mean(np.sort(nn_distances)[1:cutoff_idx+1])\n",
    "        \n",
    "    return mean_shortest"
   ]
  },
  {
   "cell_type": "code",
   "execution_count": 7,
   "metadata": {
    "collapsed": false,
    "deletable": true,
    "editable": true
   },
   "outputs": [],
   "source": [
    "# pick a random submatrix of distances\n",
    "\n",
    "# input matrix and list of node locs \n",
    "def extract_submatrix(matrix,nodes):\n",
    "    return matrix[np.ix_(nodes,nodes)]\n",
    "\n",
    "# input matrix and size of random uniform sample \n",
    "def random_submatrix(matrix,num_nodes):\n",
    "    sample = np.sort(np.random.choice(len(matrix), num_nodes, replace=False))\n",
    "    return matrix[np.ix_(sample,sample)]"
   ]
  },
  {
   "cell_type": "markdown",
   "metadata": {
    "deletable": true,
    "editable": true
   },
   "source": [
    "## find nearest neighbor links in an RGG"
   ]
  },
  {
   "cell_type": "markdown",
   "metadata": {
    "deletable": true,
    "editable": true
   },
   "source": [
    "take the 5% shortest nearest neighbor distances \n",
    "\n",
    "mean of the closest 5% of distances over shuffles \n",
    "mean of the closest 5% of driver node distances \n",
    "\n",
    "you're losing a bit of power by mixing across trials\n",
    "fix a trial and then compute a statistic for that trial:\n",
    "   - subtract mean separation of bottom 5% of drivers from E(mean separation of bottom 5% of nodes)\n",
    "   - E -- average over shuffles\n",
    "\n",
    "look at the distribution of this difference across trials\n",
    "\n",
    "if you have a repulsion effect then it'd show up in the shortest distances \n",
    "The minimum separation between any pair could work -- but it could be susceptible to outliers. \n",
    "You can see a touch of evidence for my claim in the histograms you provide.\n",
    "\n",
    "Yes -- I don't know what to expect for our summary statistics with degree -- but you can always take means across trials."
   ]
  },
  {
   "cell_type": "markdown",
   "metadata": {
    "deletable": true,
    "editable": true
   },
   "source": [
    "## solid boundary"
   ]
  },
  {
   "cell_type": "code",
   "execution_count": null,
   "metadata": {
    "collapsed": true
   },
   "outputs": [],
   "source": [
    "# make an ensemble \n",
    "kappa = 10\n",
    "n = 1000\n",
    "d = 2\n",
    "boundary = 's'\n",
    "num_radii = 10\n",
    "num_samples = 500\n",
    "\n",
    "RGG = ng.RGGEnsemble(kappa,n,d, boundary=boundary,num_radii=num_radii)\n",
    "RGG.generate_samples(n=num_samples)\n",
    "RGG.to_LCC()\n",
    "\n",
    "# for each trial (graph ensemble), find mean over 100 shuffles \n",
    "# store the difference in means of the shortest 5% for each graph ensemble and the shortest driver 5% "
   ]
  },
  {
   "cell_type": "code",
   "execution_count": 12,
   "metadata": {
    "collapsed": false,
    "deletable": true,
    "editable": true
   },
   "outputs": [
    {
     "ename": "IndexError",
     "evalue": "index 998 is out of bounds for axis 0 with size 998",
     "output_type": "error",
     "traceback": [
      "\u001b[0;31m---------------------------------------------------------------------------\u001b[0m",
      "\u001b[0;31mIndexError\u001b[0m                                Traceback (most recent call last)",
      "\u001b[0;32m<ipython-input-12-322b646dae9c>\u001b[0m in \u001b[0;36m<module>\u001b[0;34m()\u001b[0m\n\u001b[1;32m     14\u001b[0m \u001b[0;34m\u001b[0m\u001b[0m\n\u001b[1;32m     15\u001b[0m     \u001b[0;31m# extract driver node distance submatrix\u001b[0m\u001b[0;34m\u001b[0m\u001b[0;34m\u001b[0m\u001b[0m\n\u001b[0;32m---> 16\u001b[0;31m     \u001b[0mdriver_matrix\u001b[0m \u001b[0;34m=\u001b[0m \u001b[0mextract_submatrix\u001b[0m\u001b[0;34m(\u001b[0m\u001b[0md_mat\u001b[0m\u001b[0;34m,\u001b[0m\u001b[0mdrivers\u001b[0m\u001b[0;34m)\u001b[0m\u001b[0;34m\u001b[0m\u001b[0m\n\u001b[0m\u001b[1;32m     17\u001b[0m     \u001b[0;31m# find nearest neighbor distances\u001b[0m\u001b[0;34m\u001b[0m\u001b[0;34m\u001b[0m\u001b[0m\n\u001b[1;32m     18\u001b[0m     \u001b[0mdriver_mean\u001b[0m \u001b[0;34m=\u001b[0m \u001b[0mfind_mean_nearest_neighbors\u001b[0m\u001b[0;34m(\u001b[0m\u001b[0mdriver_matrix\u001b[0m\u001b[0;34m)\u001b[0m\u001b[0;34m\u001b[0m\u001b[0m\n",
      "\u001b[0;32m<ipython-input-7-ff130603ba24>\u001b[0m in \u001b[0;36mextract_submatrix\u001b[0;34m(matrix, nodes)\u001b[0m\n\u001b[1;32m      3\u001b[0m \u001b[0;31m# input matrix and list of node locs\u001b[0m\u001b[0;34m\u001b[0m\u001b[0;34m\u001b[0m\u001b[0m\n\u001b[1;32m      4\u001b[0m \u001b[0;32mdef\u001b[0m \u001b[0mextract_submatrix\u001b[0m\u001b[0;34m(\u001b[0m\u001b[0mmatrix\u001b[0m\u001b[0;34m,\u001b[0m\u001b[0mnodes\u001b[0m\u001b[0;34m)\u001b[0m\u001b[0;34m:\u001b[0m\u001b[0;34m\u001b[0m\u001b[0m\n\u001b[0;32m----> 5\u001b[0;31m     \u001b[0;32mreturn\u001b[0m \u001b[0mmatrix\u001b[0m\u001b[0;34m[\u001b[0m\u001b[0mnp\u001b[0m\u001b[0;34m.\u001b[0m\u001b[0mix_\u001b[0m\u001b[0;34m(\u001b[0m\u001b[0mnodes\u001b[0m\u001b[0;34m,\u001b[0m\u001b[0mnodes\u001b[0m\u001b[0;34m)\u001b[0m\u001b[0;34m]\u001b[0m\u001b[0;34m\u001b[0m\u001b[0m\n\u001b[0m\u001b[1;32m      6\u001b[0m \u001b[0;34m\u001b[0m\u001b[0m\n\u001b[1;32m      7\u001b[0m \u001b[0;31m# input matrix and size of random uniform sample\u001b[0m\u001b[0;34m\u001b[0m\u001b[0;34m\u001b[0m\u001b[0m\n",
      "\u001b[0;31mIndexError\u001b[0m: index 998 is out of bounds for axis 0 with size 998"
     ]
    }
   ],
   "source": [
    "driver_means = []\n",
    "shuffle_means = []\n",
    "differences = []\n",
    "for sample in RGG.samples:\n",
    "    # get positions \n",
    "    pos = sample.positions\n",
    "\n",
    "    # find the distance matrix\n",
    "    d_mat = compute_distance_matrix(pos)\n",
    "\n",
    "    # get the distance matrix of the driver nodes \n",
    "    drivers = sample.find_unmatched()\n",
    "    num_drivers = len(drivers)\n",
    "\n",
    "    # extract driver node distance submatrix \n",
    "    driver_matrix = extract_submatrix(d_mat,drivers)\n",
    "    # find nearest neighbor distances  \n",
    "    driver_mean = find_mean_nearest_neighbors(driver_matrix)\n",
    "\n",
    "    # draw random samples from the d_matrix \n",
    "    num_shuffles = 10\n",
    "    shuffle_means = []\n",
    "    for i in xrange(num_samples):\n",
    "        sample_matrix = random_submatrix(d_mat,num_drivers)\n",
    "        shuffle_means.append(find_mean_nearest_neighbors(sample_matrix))\n",
    "    \n",
    "    shuffle_mean_mean = np.mean(shuffle_means)\n",
    "    differences.append(driver_mean - shuffle_mean_mean)"
   ]
  },
  {
   "cell_type": "code",
   "execution_count": 373,
   "metadata": {
    "collapsed": false,
    "deletable": true,
    "editable": true
   },
   "outputs": [
    {
     "name": "stdout",
     "output_type": "stream",
     "text": [
      "Ttest_1sampResult(statistic=1.3286021058430975, pvalue=0.18458652872075654)\n"
     ]
    },
    {
     "data": {
      "image/png": "[encoded data removed]",
      "text/plain": [
       "<matplotlib.figure.Figure at 0x2fca59cd0>"
      ]
     },
     "metadata": {},
     "output_type": "display_data"
    }
   ],
   "source": [
    "differences = np.sort(differences) \n",
    "        \n",
    "plt.hist(differences,normed=1)\n",
    "plt.xlabel('Mean Internodal Distance Difference')\n",
    "plt.title('Solid Boundary')\n",
    "np.mean(differences), stats.sem(differences)\n",
    "plt.savefig('./plots/internodal_solid.png')\n",
    "\n",
    "print stats.ttest_1samp(differences,0)"
   ]
  },
  {
   "cell_type": "markdown",
   "metadata": {
    "deletable": true,
    "editable": true
   },
   "source": [
    "## periodic boundary "
   ]
  },
  {
   "cell_type": "code",
   "execution_count": 349,
   "metadata": {
    "collapsed": true,
    "deletable": true,
    "editable": true
   },
   "outputs": [],
   "source": [
    "# make an ensemble \n",
    "kappa = 10\n",
    "n = 1000\n",
    "d = 2\n",
    "boundary = 'p'\n",
    "num_radii = 10\n",
    "num_samples = 500\n",
    "\n",
    "RGGp = ng.RGGEnsemble(kappa,n,d, boundary=boundary,num_radii=num_radii)\n",
    "RGGp.generate_samples(n=num_samples)"
   ]
  },
  {
   "cell_type": "code",
   "execution_count": 11,
   "metadata": {
    "collapsed": false,
    "deletable": true,
    "editable": true
   },
   "outputs": [
    {
     "ename": "NameError",
     "evalue": "name 'RGGp' is not defined",
     "output_type": "error",
     "traceback": [
      "\u001b[0;31m---------------------------------------------------------------------------\u001b[0m",
      "\u001b[0;31mNameError\u001b[0m                                 Traceback (most recent call last)",
      "\u001b[0;32m<ipython-input-11-e9aab20452bc>\u001b[0m in \u001b[0;36m<module>\u001b[0;34m()\u001b[0m\n\u001b[1;32m      6\u001b[0m \u001b[0mdifferencesp\u001b[0m \u001b[0;34m=\u001b[0m \u001b[0;34m[\u001b[0m\u001b[0;34m]\u001b[0m\u001b[0;34m\u001b[0m\u001b[0m\n\u001b[1;32m      7\u001b[0m \u001b[0;34m\u001b[0m\u001b[0m\n\u001b[0;32m----> 8\u001b[0;31m \u001b[0;32mfor\u001b[0m \u001b[0msample\u001b[0m \u001b[0;32min\u001b[0m \u001b[0mRGGp\u001b[0m\u001b[0;34m.\u001b[0m\u001b[0msamples\u001b[0m\u001b[0;34m:\u001b[0m\u001b[0;34m\u001b[0m\u001b[0m\n\u001b[0m\u001b[1;32m      9\u001b[0m     \u001b[0;31m# get positions\u001b[0m\u001b[0;34m\u001b[0m\u001b[0;34m\u001b[0m\u001b[0m\n\u001b[1;32m     10\u001b[0m     \u001b[0mpos\u001b[0m \u001b[0;34m=\u001b[0m \u001b[0msample\u001b[0m\u001b[0;34m.\u001b[0m\u001b[0mpositions\u001b[0m\u001b[0;34m\u001b[0m\u001b[0m\n",
      "\u001b[0;31mNameError\u001b[0m: name 'RGGp' is not defined"
     ]
    }
   ],
   "source": [
    "# for each trial (graph ensemble), find mean over 100 shuffles \n",
    "# store the difference in means of the shortest 5% for each graph ensemble and the shortest driver 5% \n",
    "\n",
    "driver_means = []\n",
    "shuffle_means = []\n",
    "differencesp = []\n",
    "\n",
    "for sample in RGGp.samples:\n",
    "    # get positions \n",
    "    pos = sample.positions\n",
    "\n",
    "    # find the distance matrix\n",
    "    d_mat = compute_distance_matrix(pos)\n",
    "\n",
    "    # get the distance matrix of the driver nodes \n",
    "    drivers = sample.find_unmatched()\n",
    "    num_drivers = len(drivers)\n",
    "\n",
    "    # extract driver node distance submatrix \n",
    "    driver_matrix = extract_submatrix(d_mat,drivers)\n",
    "    # find nearest neighbor distances  \n",
    "    driver_mean = find_mean_nearest_neighbors(driver_matrix)\n",
    "\n",
    "    # draw random samples from the d_matrix \n",
    "    num_shuffles = 10\n",
    "    shuffle_means = []\n",
    "    for i in xrange(num_samples):\n",
    "        sample_matrix = random_submatrix(d_mat,num_drivers)\n",
    "        shuffle_means.append(find_mean_nearest_neighbors(sample_matrix))\n",
    "    \n",
    "    shuffle_mean_mean = np.mean(shuffle_means)\n",
    "    differencesp.append(driver_mean - shuffle_mean_mean)"
   ]
  },
  {
   "cell_type": "code",
   "execution_count": 375,
   "metadata": {
    "collapsed": false,
    "deletable": true,
    "editable": true
   },
   "outputs": [
    {
     "name": "stdout",
     "output_type": "stream",
     "text": [
      "Ttest_1sampResult(statistic=1.28415841157299, pvalue=0.19968242945841364)\n"
     ]
    },
    {
     "data": {
      "image/png": "[encoded data removed]",
      "text/plain": [
       "<matplotlib.figure.Figure at 0x2fcda8510>"
      ]
     },
     "metadata": {},
     "output_type": "display_data"
    }
   ],
   "source": [
    "differencesp = np.sort(differencesp) \n",
    "        \n",
    "plt.hist(differencesp,normed=1)\n",
    "plt.xlabel('Mean Internodal Distance Difference')\n",
    "plt.title('Periodic Boundary')\n",
    "plt.savefig('./plots/internodal_periodic.png')\n",
    "\n",
    "np.mean(differencesp), stats.sem(differencesp)\n",
    "print stats.ttest_1samp(differencesp,0)"
   ]
  }
 ],
 "metadata": {
  "kernelspec": {
   "display_name": "Python 2",
   "language": "python",
   "name": "python2"
  },
  "language_info": {
   "codemirror_mode": {
    "name": "ipython",
    "version": 2
   },
   "file_extension": ".py",
   "mimetype": "text/x-python",
   "name": "python",
   "nbconvert_exporter": "python",
   "pygments_lexer": "ipython2",
   "version": "2.7.13"
  },
  "latex_envs": {
   "LaTeX_envs_menu_present": true,
   "autocomplete": true,
   "bibliofile": "biblio.bib",
   "cite_by": "apalike",
   "current_citInitial": 1,
   "eqLabelWithNumbers": true,
   "eqNumInitial": 1,
   "hotkeys": {
    "equation": "Ctrl-E",
    "itemize": "Ctrl-I"
   },
   "labels_anchors": false,
   "latex_user_defs": false,
   "report_style_numbering": false,
   "user_envs_cfg": false
  }
 },
 "nbformat": 4,
 "nbformat_minor": 2
}
