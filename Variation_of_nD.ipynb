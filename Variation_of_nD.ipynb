{
 "cells": [
  {
   "cell_type": "code",
   "execution_count": 1,
   "metadata": {
    "collapsed": true,
    "deletable": true,
    "editable": true
   },
   "outputs": [],
   "source": [
    "%matplotlib inline \n",
    "import experiment as ex\n",
    "from network_generation import generation as ng\n",
    "import matplotlib.pyplot as plt\n",
    "import numpy as np\n",
    "import pickle \n",
    "from scipy import stats "
   ]
  },
  {
   "cell_type": "markdown",
   "metadata": {
    "deletable": true,
    "editable": true
   },
   "source": [
    "## compute error of the CV"
   ]
  },
  {
   "cell_type": "code",
   "execution_count": 2,
   "metadata": {
    "collapsed": false,
    "deletable": true,
    "editable": true
   },
   "outputs": [],
   "source": [
    "def compute_CV(data):\n",
    "    \n",
    "    n = float(len(data))\n",
    "    \n",
    "    # compute nth sample moment\n",
    "    mu4 = stats.moment(data,moment=4)\n",
    "    mu2 =  stats.moment(data,moment=2)\n",
    "    var = np.var(data)\n",
    "\n",
    "    # the fourth population moment estimator \n",
    "    D4 = ((n-1)/(n**3))*((n**2 - 3*n + 3)*mu4 + 3*(2*n - 3)*(mu2**2))\n",
    "\n",
    "    # the estimate of the variance standard error \n",
    "    Var_SE = np.sqrt((1/(n))*(D4 - ((n-3)/(n-1))*(var**2)))\n",
    "    \n",
    "    # normal approximation \n",
    "    # Var_SEn = np.var(data)*np.sqrt(2/((float(n))-1))\n",
    "\n",
    "    CV = ( np.var(data)**0.5 ) / ( np.mean(data) ) \n",
    "\n",
    "    part1 = (Var_SE/(  2.0*(np.var(data)**0.5)*np.mean(data) ) )**2 \n",
    "    part2 = (  (  ((np.var(data))**0.5)*stats.sem(data)/(np.mean(data)**2)  )  )**2\n",
    "    CV_SE = np.sqrt( part1  +  part2 )  \n",
    "\n",
    "    return CV, CV_SE   "
   ]
  },
  {
   "cell_type": "markdown",
   "metadata": {
    "deletable": true,
    "editable": true
   },
   "source": [
    "## setup"
   ]
  },
  {
   "cell_type": "code",
   "execution_count": 14,
   "metadata": {
    "collapsed": true,
    "deletable": true,
    "editable": true
   },
   "outputs": [],
   "source": [
    "kappa_range = [10]\n",
    "d_range = [2,3,6,9,15,25]\n",
    "n = 1000\n",
    "\n",
    "# MODEL\n",
    "def f(B, x):\n",
    "    return np.exp(B[0]*x)"
   ]
  },
  {
   "cell_type": "markdown",
   "metadata": {
    "deletable": true,
    "editable": true
   },
   "source": [
    "## plot"
   ]
  },
  {
   "cell_type": "code",
   "execution_count": 15,
   "metadata": {
    "collapsed": false,
    "deletable": true,
    "editable": true
   },
   "outputs": [
    {
     "name": "stdout",
     "output_type": "stream",
     "text": [
      "ER done\n",
      "d = 2 done\n",
      "d = 3 done\n",
      "d = 6 done\n",
      "d = 9 done\n",
      "d = 15 done\n",
      "d = 25 done\n",
      "d = 2 done\n",
      "d = 3 done\n",
      "d = 6 done\n",
      "d = 9 done\n",
      "d = 15 done\n",
      "d = 25 done\n"
     ]
    },
    {
     "data": {
      "image/png": "[encoded data removed]",
      "text/plain": [
       "<matplotlib.figure.Figure at 0x11386bd50>"
      ]
     },
     "metadata": {},
     "output_type": "display_data"
    }
   ],
   "source": [
    "# ER data \n",
    "ERE = ex.ERExperiment(kappa_range, n)\n",
    "ERE.to_LCC()\n",
    "nD_ERE = ERE.ensembles[0].find_nD_list_LCC()\n",
    "print 'ER done'\n",
    "\n",
    "CV_ER, CV_ER_SE = compute_CV(nD_ERE)\n",
    "\n",
    "###\n",
    "\n",
    "boundary = 's'\n",
    "nD_lists_RGG = []\n",
    "for d in d_range:\n",
    "    RGG = ex.RGGExperiment(kappa_range, n, d, shortcut_prob=0, boundary=boundary, num_radii=10)\n",
    "    RGG.to_LCC()\n",
    "    nD_lists_RGG.append(RGG.ensembles[0].find_nD_list_LCC())\n",
    "    print \"d = \" + str(d) + ' done'\n",
    "\n",
    "CVs = []\n",
    "CV_SEs = []\n",
    "for nD_list in nD_lists_RGG:\n",
    "    c, s = compute_CV(nD_list)\n",
    "    CVs.append(c)\n",
    "    CV_SEs.append(s)\n",
    "\n",
    "###\n",
    "    \n",
    "boundary = 'p'\n",
    "nD_lists_RGG = []\n",
    "for d in d_range:\n",
    "    RGG = ex.RGGExperiment(kappa_range, n, d, shortcut_prob=0, boundary=boundary, num_radii=10)\n",
    "    RGG.to_LCC()\n",
    "    nD_lists_RGG.append(RGG.ensembles[0].find_nD_list_LCC())\n",
    "    print \"d = \" + str(d) + ' done'\n",
    "\n",
    "CVp = []\n",
    "CV_SEp = []\n",
    "for nD_list in nD_lists_RGG:\n",
    "    c, s = compute_CV(nD_list)\n",
    "    CVp.append(c)\n",
    "    CV_SEp.append(s)\n",
    "\n",
    "fig = plt.figure()\n",
    "ax = fig.add_subplot(1,1,1)\n",
    "ax.plot(d_range,[CV_ER*o for o in np.ones(len(d_range))],'k',label='ER')\n",
    "ax.plot(d_range,[CV_ER*o - CV_ER_SE for o in np.ones(len(d_range))],'k--')\n",
    "ax.plot(d_range,[CV_ER*o + CV_ER_SE for o in np.ones(len(d_range))],'k--')\n",
    "ax.set_xlabel('Dimension $d$')\n",
    "ax.set_ylabel('$n_D$ Coefficient of Variation')\n",
    "ax.errorbar(d_range,CVs,yerr=CV_SEs,label='Solid RGG',color='r')\n",
    "ax.errorbar(d_range,CVp,yerr=CV_SEp,label='Periodic RGG',color='b')\n",
    "handles, labels = ax.get_legend_handles_labels()\n",
    "ax.legend(handles, labels)\n",
    "fig.savefig('./plots/CV_kappa_10_N_'+str(n)+'.eps')"
   ]
  },
  {
   "cell_type": "markdown",
   "metadata": {
    "collapsed": true,
    "deletable": true,
    "editable": true
   },
   "source": [
    "## gaussian variation "
   ]
  },
  {
   "cell_type": "code",
   "execution_count": 13,
   "metadata": {
    "collapsed": false,
    "deletable": true,
    "editable": true
   },
   "outputs": [
    {
     "name": "stdout",
     "output_type": "stream",
     "text": [
      "k = 20 done\n",
      "k = 30 done\n"
     ]
    },
    {
     "data": {
      "image/png": "[encoded data removed]",
      "text/plain": [
       "<matplotlib.figure.Figure at 0x112056d50>"
      ]
     },
     "metadata": {},
     "output_type": "display_data"
    }
   ],
   "source": [
    "kappa_range = [20,30]#,40,50,60]\n",
    "boundary = 'g'\n",
    "n = 1000\n",
    "d_range = [2,3,6,9,15,25]\n",
    "\n",
    "fig = plt.figure()\n",
    "ax = fig.add_subplot(1,1,1)\n",
    "\n",
    "# RGG data\n",
    "handles = []\n",
    "labels = []\n",
    "for kappa in kappa_range:\n",
    "    nD_lists_RGG = []\n",
    "    for d in d_range:\n",
    "        RGG = ex.RGGExperiment([kappa], n, d, shortcut_prob=0, boundary=boundary, num_radii=10)\n",
    "        RGG.to_LCC()\n",
    "        nD_lists_RGG.append(RGG.ensembles[0].find_nD_list_LCC())\n",
    "        \n",
    "    print \"k = \" + str(kappa) + ' done'\n",
    "\n",
    "    CVg = []\n",
    "    CV_SEg = []\n",
    "    for nD_list in nD_lists_RGG:\n",
    "        c, s = compute_CV(nD_list)\n",
    "        CVg.append(c)\n",
    "        CV_SEg.append(s)\n",
    "\n",
    "    h = ax.errorbar(d_range,CVg,yerr=CV_SEg,label='$\\kappa = $ '+str(kappa))\n",
    "    handles.append(h)\n",
    "    labels.append('$\\kappa$='+str(kappa))\n",
    "    \n",
    "handles, labels = ax.get_legend_handles_labels()\n",
    "ax.set_xlabel('Dimension $d$')\n",
    "ax.set_ylabel('$n_D$ Coefficient of Variation')\n",
    "ax.legend(handles,labels)\n",
    "# ax.errorbar(d_range,CVs,yerr=CV_SEs,label='RGG solid')\n",
    "# handles, labels = ax.get_legend_handles_labels()\n",
    "# ax.legend(handles, labels)\n",
    "fig.savefig('./plots/CV_kappa_30_Gaussian_N_'+str(n)+'.eps')"
   ]
  },
  {
   "cell_type": "markdown",
   "metadata": {
    "deletable": true,
    "editable": true
   },
   "source": [
    "## ER data generation"
   ]
  },
  {
   "cell_type": "code",
   "execution_count": 13,
   "metadata": {
    "collapsed": false,
    "deletable": true,
    "editable": true
   },
   "outputs": [
    {
     "name": "stdout",
     "output_type": "stream",
     "text": [
      "running 7 generations\n",
      "saved run 1\n",
      "saved run 2\n",
      "saved run 3\n",
      "saved run 4\n",
      "saved run 5\n",
      "saved run 6\n",
      "saved run 7\n"
     ]
    }
   ],
   "source": [
    "# GENERATE ER DATA \n",
    "kappa_range = [1,3,5,8,10,15,20]\n",
    "n_range = [1000]\n",
    "num_samples = 100\n",
    "print 'running ' + str(len(n_range)*len(kappa_range)) + ' generations'\n",
    "i=1\n",
    "for kappa in kappa_range:\n",
    "    for n in n_range:\n",
    "        # make an ER Ensemble\n",
    "        ER = ng.EREnsemble(kappa,n)\n",
    "        # generate samples \n",
    "        # sample data is stored in the object \n",
    "        ER.generate_samples(n=num_samples)\n",
    "        # data to disk \n",
    "        ER.to_disk()\n",
    "        print 'saved run ' + str(i)\n",
    "        i+=1 "
   ]
  }
 ],
 "metadata": {
  "kernelspec": {
   "display_name": "Python 2",
   "language": "python",
   "name": "python2"
  },
  "language_info": {
   "codemirror_mode": {
    "name": "ipython",
    "version": 2
   },
   "file_extension": ".py",
   "mimetype": "text/x-python",
   "name": "python",
   "nbconvert_exporter": "python",
   "pygments_lexer": "ipython2",
   "version": "2.7.13"
  },
  "latex_envs": {
   "LaTeX_envs_menu_present": true,
   "autocomplete": true,
   "bibliofile": "biblio.bib",
   "cite_by": "apalike",
   "current_citInitial": 1,
   "eqLabelWithNumbers": true,
   "eqNumInitial": 1,
   "hotkeys": {
    "equation": "Ctrl-E",
    "itemize": "Ctrl-I"
   },
   "labels_anchors": false,
   "latex_user_defs": false,
   "report_style_numbering": false,
   "user_envs_cfg": false
  }
 },
 "nbformat": 4,
 "nbformat_minor": 2
}
