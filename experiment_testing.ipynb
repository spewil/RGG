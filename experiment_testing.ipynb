{
 "cells": [
  {
   "cell_type": "code",
   "execution_count": null,
   "metadata": {
    "collapsed": true
   },
   "outputs": [],
   "source": [
    "# PARAMS\n",
    "kappa_range = kappa_range = [1,3,5,10,15,20]\n",
    "n_range = range(100,1001,100)\n",
    "d_range = range(2,11,1)"
   ]
  },
  {
   "cell_type": "code",
   "execution_count": null,
   "metadata": {
    "collapsed": true
   },
   "outputs": [],
   "source": [
    "## SOLID \n",
    "RGGE = ex.RGGExperiment(kappa_range, n, d, shortcut_prob=0, boundary='s')\n",
    "gamma_std = np.sqrt(RGGE.scaling_params[1][1][1])\n",
    "print 'standard deviation of gamma ' + str(gamma_std)\n",
    "print 'gamma interval: [' + str(RGGE.gamma - gamma_std) + ',' + str(RGGE.gamma + gamma_std) + ']'"
   ]
  },
  {
   "cell_type": "code",
   "execution_count": null,
   "metadata": {
    "collapsed": true
   },
   "outputs": [],
   "source": [
    "## PERIODIC\n",
    "RGGE = ex.RGGExperiment(kappa_range, n, d, shortcut_prob=0, boundary='p')\n",
    "gamma_std = np.sqrt(RGGE.scaling_params[1][1][1])\n",
    "print 'standard deviation of gamma ' + str(gamma_std)\n",
    "print 'gamma interval: [' + str(RGGE.gamma - gamma_std) + ',' + str(RGGE.gamma + gamma_std) + ']'"
   ]
  }
 ],
 "metadata": {
  "kernelspec": {
   "display_name": "Python 2",
   "language": "python",
   "name": "python2"
  },
  "language_info": {
   "codemirror_mode": {
    "name": "ipython",
    "version": 2
   },
   "file_extension": ".py",
   "mimetype": "text/x-python",
   "name": "python",
   "nbconvert_exporter": "python",
   "pygments_lexer": "ipython2",
   "version": "2.7.13"
  },
  "latex_envs": {
   "LaTeX_envs_menu_present": true,
   "autocomplete": true,
   "bibliofile": "biblio.bib",
   "cite_by": "apalike",
   "current_citInitial": 1,
   "eqLabelWithNumbers": true,
   "eqNumInitial": 1,
   "hotkeys": {
    "equation": "Ctrl-E",
    "itemize": "Ctrl-I"
   },
   "labels_anchors": false,
   "latex_user_defs": false,
   "report_style_numbering": false,
   "user_envs_cfg": false
  }
 },
 "nbformat": 4,
 "nbformat_minor": 2
}
