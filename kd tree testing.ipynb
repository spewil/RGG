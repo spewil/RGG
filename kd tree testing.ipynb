{
 "cells": [
  {
   "cell_type": "code",
   "execution_count": 1,
   "metadata": {
    "collapsed": false,
    "deletable": true,
    "editable": true
   },
   "outputs": [],
   "source": [
    "%matplotlib inline\n",
    "import zen\n",
    "import networkx as nx\n",
    "import numpy as np \n",
    "import network_generation.generation as ng\n",
    "import experiment as ex\n",
    "import matplotlib.pyplot as plt\n",
    "from scipy import stats\n",
    "import scipy.spatial as sp \n",
    "\n",
    "# params\n",
    "kappa_range = [10]\n",
    "kappa = 8\n",
    "d = 2\n",
    "n = 1000\n",
    "boundary = 's'\n",
    "d_range = [2,3,6,9,15,25]\n",
    "LCC = True\n",
    "markers = ['^','*','s','+','o','v']\n",
    "colors = ['k','c','b','m','g','r']   "
   ]
  },
  {
   "cell_type": "code",
   "execution_count": 10,
   "metadata": {
    "collapsed": false,
    "deletable": true,
    "editable": true
   },
   "outputs": [
    {
     "name": "stdout",
     "output_type": "stream",
     "text": [
      "69.1547141075\n"
     ]
    },
    {
     "ename": "IndexError",
     "evalue": "list index out of range",
     "output_type": "error",
     "traceback": [
      "\u001b[0;31m---------------------------------------------------------------------------\u001b[0m",
      "\u001b[0;31mIndexError\u001b[0m                                Traceback (most recent call last)",
      "\u001b[0;32m<ipython-input-10-3107128b052a>\u001b[0m in \u001b[0;36m<module>\u001b[0;34m()\u001b[0m\n\u001b[1;32m      8\u001b[0m \u001b[0;32mprint\u001b[0m \u001b[0mt2\u001b[0m\u001b[0;34m-\u001b[0m\u001b[0mt1\u001b[0m\u001b[0;34m\u001b[0m\u001b[0m\n\u001b[1;32m      9\u001b[0m \u001b[0;34m\u001b[0m\u001b[0m\n\u001b[0;32m---> 10\u001b[0;31m \u001b[0;32mprint\u001b[0m \u001b[0mRGG\u001b[0m\u001b[0;34m.\u001b[0m\u001b[0msamples\u001b[0m\u001b[0;34m[\u001b[0m\u001b[0;36m0\u001b[0m\u001b[0;34m]\u001b[0m\u001b[0;34m.\u001b[0m\u001b[0mmean_degree\u001b[0m\u001b[0;34m(\u001b[0m\u001b[0;34m)\u001b[0m\u001b[0;34m\u001b[0m\u001b[0m\n\u001b[0m\u001b[1;32m     11\u001b[0m \u001b[0;34m\u001b[0m\u001b[0m\n\u001b[1;32m     12\u001b[0m \u001b[0mRGGk\u001b[0m \u001b[0;34m=\u001b[0m \u001b[0mng\u001b[0m\u001b[0;34m.\u001b[0m\u001b[0mRGGEnsemble\u001b[0m\u001b[0;34m(\u001b[0m\u001b[0mkappa\u001b[0m\u001b[0;34m,\u001b[0m\u001b[0mn\u001b[0m\u001b[0;34m,\u001b[0m\u001b[0md\u001b[0m\u001b[0;34m)\u001b[0m\u001b[0;34m\u001b[0m\u001b[0m\n",
      "\u001b[0;31mIndexError\u001b[0m: list index out of range"
     ]
    }
   ],
   "source": [
    "import time\n",
    "\n",
    "RGG = ng.RGGEnsemble(kappa,n,d)\n",
    "\n",
    "t1 = time.time()\n",
    "RGGk.generate_samples(n=100)\n",
    "t2 = time.time()\n",
    "print t2-t1\n",
    "\n",
    "print RGG.samples[0].mean_degree()\n",
    "\n",
    "RGGk = ng.RGGEnsemble(kappa,n,d)\n",
    "\n",
    "t1 = time.time()\n",
    "RGGk.generate_samples_kd(n=100)\n",
    "t2 = time.time()\n",
    "print t2-t1\n",
    "\n",
    "print RGGk.samples[0].mean_degree()"
   ]
  },
  {
   "cell_type": "markdown",
   "metadata": {},
   "source": [
    "## k-d trees are orders of magnitude faster than original sampling algorithm to compute the pairs "
   ]
  },
  {
   "cell_type": "code",
   "execution_count": 3,
   "metadata": {
    "collapsed": false,
    "deletable": true,
    "editable": true
   },
   "outputs": [
    {
     "name": "stdout",
     "output_type": "stream",
     "text": [
      "97722\n",
      "79210\n",
      "499500\n"
     ]
    }
   ],
   "source": [
    "# test toroidal \n",
    "\n",
    "tree_p = sp.cKDTree(RGGk.samples[0].positions, copy_data = True, boxsize=1.)\n",
    "tree_s = sp.cKDTree(RGGk.samples[0].positions, copy_data = True)\n",
    "\n",
    "print len(tree_p.query_pairs(.25))\n",
    "print len(tree_s.query_pairs(.25))\n",
    "\n",
    "A_p = np.zeros([n,n])\n",
    "A_s = np.zeros([n,n])\n",
    "\n",
    "# solid \n",
    "for p in tree_p.query_pairs(.25):\n",
    "    # flip coin \n",
    "    if np.random.random() < 0.5:\n",
    "        A_p[p[0]][p[1]] = 1.\n",
    "    else:\n",
    "        A_p[p[1]][p[0]] = 1.\n",
    "\n",
    "# periodic \n",
    "for p in tree_s.query_pairs(.25):\n",
    "    # flip coin \n",
    "    if np.random.random() < 0.5:\n",
    "        A_s[p[0]][p[1]] = 1.\n",
    "    else:\n",
    "        A_s[p[1]][p[0]] = 1.\n",
    "        \n",
    "s_p = RGGk.samples[0]\n",
    "s_s = RGGk.samples[1]\n",
    "\n",
    "s_p.positions = RGGk.samples[0].positions\n",
    "s_s.positions = RGGk.samples[0].positions\n",
    "\n",
    "s_p.adjacency_dense = A_p\n",
    "s_s.adjacency_dense = A_s\n",
    "\n",
    "d_list = []\n",
    "d_array = tree_p.sparse_distance_matrix(tree_p,10.,output_type='dok_matrix')\n",
    "d_list = d_array.values()\n",
    "print len(np.sort(d_list)[n::2])"
   ]
  },
  {
   "cell_type": "markdown",
   "metadata": {
    "deletable": true,
    "editable": true
   },
   "source": [
    "## k-d trees are slower because it's computing $N^2$ distances instead of $\\frac{N(N-1)}{2}$"
   ]
  },
  {
   "cell_type": "code",
   "execution_count": 8,
   "metadata": {
    "collapsed": false,
    "deletable": true,
    "editable": true
   },
   "outputs": [
    {
     "name": "stdout",
     "output_type": "stream",
     "text": [
      "0.0514159202576\n",
      "1.30663299561\n",
      "0.0519524413925\n",
      "0.0520739556762\n"
     ]
    }
   ],
   "source": [
    "R = ng.RGGEnsemble(kappa,n,d)\n",
    "t1 = time.time()\n",
    "r = R.compute_radius()\n",
    "t2 = time.time()\n",
    "print t2-t1\n",
    "\n",
    "t1 = time.time()\n",
    "rk = R.compute_radius_kd()\n",
    "t2 = time.time()\n",
    "print t2-t1\n",
    "\n",
    "print r\n",
    "print rk"
   ]
  }
 ],
 "metadata": {
  "kernelspec": {
   "display_name": "Python 2",
   "language": "python",
   "name": "python2"
  },
  "language_info": {
   "codemirror_mode": {
    "name": "ipython",
    "version": 2
   },
   "file_extension": ".py",
   "mimetype": "text/x-python",
   "name": "python",
   "nbconvert_exporter": "python",
   "pygments_lexer": "ipython2",
   "version": "2.7.13"
  },
  "latex_envs": {
   "LaTeX_envs_menu_present": true,
   "autocomplete": true,
   "bibliofile": "biblio.bib",
   "cite_by": "apalike",
   "current_citInitial": 1,
   "eqLabelWithNumbers": true,
   "eqNumInitial": 1,
   "hotkeys": {
    "equation": "Ctrl-E",
    "itemize": "Ctrl-I"
   },
   "labels_anchors": false,
   "latex_user_defs": false,
   "report_style_numbering": false,
   "user_envs_cfg": false
  }
 },
 "nbformat": 4,
 "nbformat_minor": 2
}
