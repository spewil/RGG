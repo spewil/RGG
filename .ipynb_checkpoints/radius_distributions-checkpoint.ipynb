{
 "cells": [
  {
   "cell_type": "code",
   "execution_count": 34,
   "metadata": {
    "collapsed": true,
    "deletable": true,
    "editable": true
   },
   "outputs": [],
   "source": [
    "%matplotlib inline\n",
    "import numpy as np\n",
    "import network_generation.generation as netgen\n",
    "import matplotlib.pyplot as plt\n",
    "import experiment as ex\n",
    "import time \n",
    "\n",
    "# PARAMS \n",
    "kappa, n, d = 10, 1000, 2\n",
    "\n",
    "num_radii = 100 "
   ]
  },
  {
   "cell_type": "code",
   "execution_count": 18,
   "metadata": {
    "collapsed": false,
    "deletable": true,
    "editable": true
   },
   "outputs": [
    {
     "name": "stdout",
     "output_type": "stream",
     "text": [
      "radii mean: 0.0564058725409\n",
      "radii stddev: 0.000386092428581\n"
     ]
    }
   ],
   "source": [
    "## PERIODIC  \n",
    "radii = []\n",
    "for radius in xrange(num_radii): \n",
    "    RGGp = netgen.RGGEnsemble(kappa, n, d,boundary='p',num_radii=1)\n",
    "    RGGp.generate_samples(n=1)\n",
    "    radii.append(RGGp.radius)\n",
    "print 'radii mean: '+str(np.mean(radii))\n",
    "print 'radii stddev: '+str(np.std(radii))"
   ]
  },
  {
   "cell_type": "code",
   "execution_count": 25,
   "metadata": {
    "collapsed": false,
    "deletable": true,
    "editable": true
   },
   "outputs": [
    {
     "data": {
      "image/png": "[encoded data removed]",
      "text/plain": [
       "<matplotlib.figure.Figure at 0x115a8ba90>"
      ]
     },
     "metadata": {},
     "output_type": "display_data"
    }
   ],
   "source": [
    "fig1 = plt.figure()\n",
    "ax1 = fig1.add_subplot(111)\n",
    "n, bins, patches = ax1.hist(radii,10)\n",
    "ax1.set_title('radius distribution periodic BC')\n",
    "ax1.set_xlabel('radius $r$')\n",
    "ax1.set_ylabel('frequency')\n",
    "fig1.savefig('./plots/histograms/r_100samples_' + RGGp.get_param_string())"
   ]
  },
  {
   "cell_type": "code",
   "execution_count": 28,
   "metadata": {
    "collapsed": false,
    "deletable": true,
    "editable": true
   },
   "outputs": [
    {
     "name": "stdout",
     "output_type": "stream",
     "text": [
      "radii mean: 0.0578693908579\n",
      "radii stddev: 0.000484803726171\n"
     ]
    }
   ],
   "source": [
    "## SOLID  \n",
    "radii = []\n",
    "for radius in xrange(num_radii): \n",
    "    RGGs = netgen.RGGEnsemble(kappa, n, d,boundary='s',num_radii=1)\n",
    "    RGGs.generate_samples(n=1)\n",
    "    radii.append(RGGs.radius)\n",
    "print 'radii mean: '+str(np.mean(radii))\n",
    "print 'radii stddev: '+str(np.std(radii))"
   ]
  },
  {
   "cell_type": "code",
   "execution_count": 29,
   "metadata": {
    "collapsed": false,
    "deletable": true,
    "editable": true
   },
   "outputs": [
    {
     "data": {
      "image/png": "[encoded data removed]",
      "text/plain": [
       "<matplotlib.figure.Figure at 0x11420e9d0>"
      ]
     },
     "metadata": {},
     "output_type": "display_data"
    }
   ],
   "source": [
    "fig2 = plt.figure()\n",
    "ax2 = fig2.add_subplot(111)\n",
    "n, bins, patches = ax2.hist(radii,10)\n",
    "ax2.set_title('radius distribution solid BC')\n",
    "ax2.set_xlabel('radius $r$')\n",
    "ax2.set_ylabel('frequency')\n",
    "fig2.savefig('./plots/histograms/r_100samples_' + RGGs.get_param_string())"
   ]
  },
  {
   "cell_type": "code",
   "execution_count": 35,
   "metadata": {
    "collapsed": false,
    "deletable": true,
    "editable": true
   },
   "outputs": [
    {
     "name": "stdout",
     "output_type": "stream",
     "text": [
      "radii mean: 0.200483404875\n",
      "radii stddev: 0.00380155427319\n"
     ]
    }
   ],
   "source": [
    "## GAUSSIAN  \n",
    "radii = []\n",
    "for radius in xrange(num_radii): \n",
    "    RGGg = netgen.RGGEnsemble(kappa, n, d,boundary='g',num_radii=1)\n",
    "    RGGg.generate_samples(n=1)\n",
    "    radii.append(RGGg.radius)\n",
    "print 'radii mean: '+str(np.mean(radii))\n",
    "print 'radii stddev: '+str(np.std(radii))"
   ]
  },
  {
   "cell_type": "code",
   "execution_count": 32,
   "metadata": {
    "collapsed": false,
    "deletable": true,
    "editable": true
   },
   "outputs": [
    {
     "data": {
      "image/png": "[encoded data removed]",
      "text/plain": [
       "<matplotlib.figure.Figure at 0x11420e4d0>"
      ]
     },
     "metadata": {},
     "output_type": "display_data"
    }
   ],
   "source": [
    "fig3 = plt.figure()\n",
    "ax3 = fig3.add_subplot(111)\n",
    "n, bins, patches = ax3.hist(radii,10)\n",
    "ax3.set_title('radius distribution gaussian BC')\n",
    "ax3.set_xlabel('radius $r$')\n",
    "ax3.set_ylabel('frequency')\n",
    "fig3.savefig('./plots/histograms/r_100samples_' + RGGg.get_param_string())"
   ]
  },
  {
   "cell_type": "code",
   "execution_count": null,
   "metadata": {
    "collapsed": true,
    "deletable": true,
    "editable": true
   },
   "outputs": [],
   "source": []
  }
 ],
 "metadata": {
  "kernelspec": {
   "display_name": "Python 2",
   "language": "python",
   "name": "python2"
  },
  "language_info": {
   "codemirror_mode": {
    "name": "ipython",
    "version": 2
   },
   "file_extension": ".py",
   "mimetype": "text/x-python",
   "name": "python",
   "nbconvert_exporter": "python",
   "pygments_lexer": "ipython2",
   "version": "2.7.13"
  },
  "latex_envs": {
   "LaTeX_envs_menu_present": true,
   "autocomplete": true,
   "bibliofile": "biblio.bib",
   "cite_by": "apalike",
   "current_citInitial": 1,
   "eqLabelWithNumbers": true,
   "eqNumInitial": 1,
   "hotkeys": {
    "equation": "Ctrl-E",
    "itemize": "Ctrl-I"
   },
   "labels_anchors": false,
   "latex_user_defs": false,
   "report_style_numbering": false,
   "user_envs_cfg": false
  }
 },
 "nbformat": 4,
 "nbformat_minor": 2
}
