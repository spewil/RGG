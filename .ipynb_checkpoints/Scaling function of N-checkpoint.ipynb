{
 "cells": [
  {
   "cell_type": "code",
   "execution_count": 4,
   "metadata": {
    "collapsed": false
   },
   "outputs": [
    {
     "name": "stdout",
     "output_type": "stream",
     "text": [
      "running 9 generations\n",
      "saved run 1\n",
      "saved run 2\n",
      "saved run 3\n",
      "saved run 4\n",
      "saved run 5\n",
      "saved run 6\n",
      "saved run 7\n",
      "saved run 8\n",
      "saved run 9\n"
     ]
    },
    {
     "ename": "ValueError",
     "evalue": "Data does not exist for: RGG_K_3_N_10_d_2_BC_s_num_r_3",
     "output_type": "error",
     "traceback": [
      "\u001b[0;31m---------------------------------------------------------------------------\u001b[0m",
      "\u001b[0;31mValueError\u001b[0m                                Traceback (most recent call last)",
      "\u001b[0;32m<ipython-input-4-79cd3e6066b5>\u001b[0m in \u001b[0;36m<module>\u001b[0;34m()\u001b[0m\n\u001b[1;32m     63\u001b[0m     \u001b[0mgamma_errs\u001b[0m \u001b[0;34m=\u001b[0m \u001b[0;34m[\u001b[0m\u001b[0;34m]\u001b[0m\u001b[0;34m\u001b[0m\u001b[0m\n\u001b[1;32m     64\u001b[0m     \u001b[0;32mfor\u001b[0m \u001b[0md\u001b[0m \u001b[0;32min\u001b[0m \u001b[0md_range\u001b[0m\u001b[0;34m:\u001b[0m\u001b[0;34m\u001b[0m\u001b[0m\n\u001b[0;32m---> 65\u001b[0;31m         \u001b[0mRGG\u001b[0m \u001b[0;34m=\u001b[0m \u001b[0mex\u001b[0m\u001b[0;34m.\u001b[0m\u001b[0mRGGExperiment\u001b[0m\u001b[0;34m(\u001b[0m\u001b[0mkappa_range\u001b[0m\u001b[0;34m,\u001b[0m \u001b[0mn\u001b[0m\u001b[0;34m,\u001b[0m \u001b[0md\u001b[0m\u001b[0;34m,\u001b[0m \u001b[0mshortcut_prob\u001b[0m\u001b[0;34m=\u001b[0m\u001b[0;36m0\u001b[0m\u001b[0;34m,\u001b[0m \u001b[0mboundary\u001b[0m\u001b[0;34m=\u001b[0m\u001b[0mboundary\u001b[0m\u001b[0;34m,\u001b[0m \u001b[0mnum_radii\u001b[0m\u001b[0;34m=\u001b[0m\u001b[0;36m3\u001b[0m\u001b[0;34m)\u001b[0m\u001b[0;34m\u001b[0m\u001b[0m\n\u001b[0m\u001b[1;32m     66\u001b[0m \u001b[0;34m\u001b[0m\u001b[0m\n\u001b[1;32m     67\u001b[0m         \u001b[0mmean_degree_list\u001b[0m\u001b[0;34m,\u001b[0m \u001b[0mstd_degree_list\u001b[0m\u001b[0;34m,\u001b[0m \u001b[0m_\u001b[0m \u001b[0;34m=\u001b[0m \u001b[0mRGG\u001b[0m\u001b[0;34m.\u001b[0m\u001b[0mfind_degree_stats\u001b[0m\u001b[0;34m(\u001b[0m\u001b[0;34m)\u001b[0m\u001b[0;34m\u001b[0m\u001b[0m\n",
      "\u001b[0;32m/Users/spencerw/Dropbox (Personal)/Imperial/thesis/code/experiment.pyc\u001b[0m in \u001b[0;36m__init__\u001b[0;34m(self, kappa_range, n, d, shortcut_prob, boundary, ensembles, num_radii)\u001b[0m\n\u001b[1;32m     21\u001b[0m \u001b[0;34m\u001b[0m\u001b[0m\n\u001b[1;32m     22\u001b[0m                 \u001b[0;31m# populate ensembles\u001b[0m\u001b[0;34m\u001b[0m\u001b[0;34m\u001b[0m\u001b[0m\n\u001b[0;32m---> 23\u001b[0;31m                 \u001b[0mself\u001b[0m\u001b[0;34m.\u001b[0m\u001b[0mensembles\u001b[0m \u001b[0;34m=\u001b[0m \u001b[0mself\u001b[0m\u001b[0;34m.\u001b[0m\u001b[0madd_ensembles\u001b[0m\u001b[0;34m(\u001b[0m\u001b[0;34m)\u001b[0m\u001b[0;34m\u001b[0m\u001b[0m\n\u001b[0m\u001b[1;32m     24\u001b[0m \u001b[0;34m\u001b[0m\u001b[0m\n\u001b[1;32m     25\u001b[0m         \u001b[0;32mdef\u001b[0m \u001b[0madd_ensembles\u001b[0m\u001b[0;34m(\u001b[0m\u001b[0mself\u001b[0m\u001b[0;34m)\u001b[0m\u001b[0;34m:\u001b[0m\u001b[0;34m\u001b[0m\u001b[0m\n",
      "\u001b[0;32m/Users/spencerw/Dropbox (Personal)/Imperial/thesis/code/experiment.pyc\u001b[0m in \u001b[0;36madd_ensembles\u001b[0;34m(self)\u001b[0m\n\u001b[1;32m     31\u001b[0m                                 \u001b[0mRGG\u001b[0m \u001b[0;34m=\u001b[0m \u001b[0mng\u001b[0m\u001b[0;34m.\u001b[0m\u001b[0mRGGEnsemble\u001b[0m\u001b[0;34m.\u001b[0m\u001b[0mfrom_disk\u001b[0m\u001b[0;34m(\u001b[0m\u001b[0;34m'/Users/spencerw/Documents/DATA/rgg_samples/'\u001b[0m \u001b[0;34m+\u001b[0m \u001b[0mRGG\u001b[0m\u001b[0;34m.\u001b[0m\u001b[0mget_param_string\u001b[0m\u001b[0;34m(\u001b[0m\u001b[0;34m)\u001b[0m\u001b[0;34m+\u001b[0m\u001b[0;34m'.pickle'\u001b[0m\u001b[0;34m)\u001b[0m\u001b[0;34m\u001b[0m\u001b[0m\n\u001b[1;32m     32\u001b[0m                         \u001b[0;32mexcept\u001b[0m\u001b[0;34m:\u001b[0m\u001b[0;34m\u001b[0m\u001b[0m\n\u001b[0;32m---> 33\u001b[0;31m                                 \u001b[0;32mraise\u001b[0m \u001b[0mValueError\u001b[0m\u001b[0;34m(\u001b[0m\u001b[0;34m'Data does not exist for: '\u001b[0m \u001b[0;34m+\u001b[0m \u001b[0mstr\u001b[0m\u001b[0;34m(\u001b[0m\u001b[0mRGG\u001b[0m\u001b[0;34m.\u001b[0m\u001b[0mget_param_string\u001b[0m\u001b[0;34m(\u001b[0m\u001b[0;34m)\u001b[0m\u001b[0;34m)\u001b[0m\u001b[0;34m)\u001b[0m\u001b[0;34m\u001b[0m\u001b[0m\n\u001b[0m\u001b[1;32m     34\u001b[0m                         \u001b[0mensembles\u001b[0m\u001b[0;34m.\u001b[0m\u001b[0mappend\u001b[0m\u001b[0;34m(\u001b[0m\u001b[0mRGG\u001b[0m\u001b[0;34m)\u001b[0m\u001b[0;34m\u001b[0m\u001b[0m\n\u001b[1;32m     35\u001b[0m                 \u001b[0;32mreturn\u001b[0m \u001b[0mensembles\u001b[0m\u001b[0;34m\u001b[0m\u001b[0m\n",
      "\u001b[0;31mValueError\u001b[0m: Data does not exist for: RGG_K_3_N_10_d_2_BC_s_num_r_3"
     ]
    },
    {
     "data": {
      "image/png": "[encoded data removed]",
      "text/plain": [
       "<matplotlib.figure.Figure at 0x10e7039d0>"
      ]
     },
     "metadata": {},
     "output_type": "display_data"
    },
    {
     "data": {
      "image/png": "[encoded data removed]",
      "text/plain": [
       "<matplotlib.figure.Figure at 0x10e577490>"
      ]
     },
     "metadata": {},
     "output_type": "display_data"
    }
   ],
   "source": [
    "# generate large N dataset, compute scaling, compare to smaller N (100, 1000, 10000)\n",
    "# generate, simulate, and plot in one go so we can leave it overnight \n",
    "# test with N = 100,200,300 \n",
    "\n",
    "%matplotlib inline \n",
    "import numpy as np\n",
    "import matplotlib.pyplot as plt \n",
    "import experiment as ex\n",
    "from network_generation import generation as ng\n",
    "from scipy import optimize\n",
    "from scipy.odr import * \n",
    "\n",
    "# generate data \n",
    "############################################\n",
    "\n",
    "# above connectivity threshold \n",
    "kappa_range = [3]#[10,12,15,17,20]\n",
    "n_range = [10,20,30]\n",
    "d_range = [2,9,25,]#[2,3,6,9,15,25]\n",
    "boundaries = ['s'] \n",
    "num_samples = 100\n",
    "\n",
    "print 'running ' + str(len(n_range)*len(d_range)*len(boundaries)*len(kappa_range)) + ' generations'\n",
    "i=1\n",
    "\n",
    "## RGGs ##\n",
    "for kappa in kappa_range:\n",
    "    for n in n_range:\n",
    "        for d in d_range:\n",
    "            for boundary in boundaries: \n",
    "                RGG = ng.RGGEnsemble(kappa, n, d, boundary=boundary, num_radii=10)\n",
    "                RGG.generate_samples(n=num_samples)\n",
    "                # data to disk \n",
    "                RGG.to_disk()\n",
    "                print 'saved run ' + str(i)\n",
    "                i+=1 \n",
    "                \n",
    "###########################################\n",
    "\n",
    "# set up plots and axes \n",
    "ndkfig = plt.figure(1)\n",
    "ndkax = ndkfig.add_subplot(1,1,1)\n",
    "gdfig = plt.figure(2)\n",
    "gdax = gdfig.add_subplot(1,1,1)\n",
    "\n",
    "# MODEL\n",
    "def f(B, x):\n",
    "    return np.exp(B[0]*x)\n",
    "\n",
    "gdhandles = []\n",
    "ndkhandles = []\n",
    "gdlegend = []\n",
    "ndklegend = []\n",
    "\n",
    "for n in n_range:\n",
    "    gammas = []\n",
    "    gamma_errs = []\n",
    "    for d in d_range:\n",
    "        RGG = ex.RGGExperiment(kappa_range, n, d, shortcut_prob=0, boundary=boundary, num_radii=3)\n",
    "\n",
    "        mean_degree_list, std_degree_list, _ = RGG.find_degree_stats()\n",
    "        mean_nD_list, std_nD_list, _ = RGG.find_nD_stats()\n",
    "\n",
    "        x = mean_degree_list\n",
    "        y = mean_nD_list\n",
    "\n",
    "        wx = [s+1 for s in RGG.std_degree_list]\n",
    "        wy = [s+1 for s in RGG.std_nD_list] \n",
    "\n",
    "        output = odr(f,[-0.5],y,x,wd=wx,we=wy)\n",
    "\n",
    "        ndkhandle, = ndkax.plot(kappa_range_fine,f(output[0],kappa_range_fine),'-')\n",
    "        ndkhandles.append(ndkhandle)\n",
    "        ndklegend.append('d='+str(d)+', n='+str(n))\n",
    "        \n",
    "        gammas.append(output[0][0])\n",
    "        # 95% confidence is 2*standard error \n",
    "        gamma_errs.append(output[1][0])\n",
    "        print str(d) +'th dimension done'\n",
    "\n",
    "    gdhandle = gdax.errorbar(d_range,gammas,yerr=gamma_errs,fmt='o')\n",
    "    gdhandles.append(gdhandle)\n",
    "    gdlegend.append('n='+str(n))\n",
    "\n",
    "ndkax.set_xlabel('Average Mean Degree $\\\\langle{k}\\\\rangle$')\n",
    "ndkax.set_ylabel('Fraction of Driver Nodes $n_D$')\n",
    "ndkax.legend(ndkhandles,ndklegend)\n",
    "\n",
    "gdax.set_xlabel('Dimension $d$')\n",
    "gdax.set_ylabel('Scaling Parameter $\\\\gamma$')\n",
    "gdax.legend(gdhandles,gdlegend)\n",
    "\n",
    "ndkfig.savefig('./plots/k_nD_over_N_BC_' + boundary + '.eps',dpi=800)\n",
    "gdfig.savefig('./plots/gamma_d_over_N_BC_' + boundary + '.eps',dpi=800)"
   ]
  },
  {
   "cell_type": "code",
   "execution_count": null,
   "metadata": {
    "collapsed": true
   },
   "outputs": [],
   "source": []
  }
 ],
 "metadata": {
  "kernelspec": {
   "display_name": "Python 2",
   "language": "python",
   "name": "python2"
  },
  "language_info": {
   "codemirror_mode": {
    "name": "ipython",
    "version": 2
   },
   "file_extension": ".py",
   "mimetype": "text/x-python",
   "name": "python",
   "nbconvert_exporter": "python",
   "pygments_lexer": "ipython2",
   "version": "2.7.13"
  },
  "latex_envs": {
   "LaTeX_envs_menu_present": true,
   "autocomplete": true,
   "bibliofile": "biblio.bib",
   "cite_by": "apalike",
   "current_citInitial": 1,
   "eqLabelWithNumbers": true,
   "eqNumInitial": 1,
   "hotkeys": {
    "equation": "Ctrl-E",
    "itemize": "Ctrl-I"
   },
   "labels_anchors": false,
   "latex_user_defs": false,
   "report_style_numbering": false,
   "user_envs_cfg": false
  }
 },
 "nbformat": 4,
 "nbformat_minor": 2
}
