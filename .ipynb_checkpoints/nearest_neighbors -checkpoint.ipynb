{
 "cells": [
  {
   "cell_type": "code",
   "execution_count": 2,
   "metadata": {
    "collapsed": true,
    "deletable": true,
    "editable": true
   },
   "outputs": [],
   "source": [
    "%matplotlib inline \n",
    "import experiment as ex\n",
    "import network_generation.generation as ng \n",
    "import matplotlib.pyplot as plt \n",
    "import numpy as np\n",
    "from scipy import stats"
   ]
  },
  {
   "cell_type": "markdown",
   "metadata": {
    "deletable": true,
    "editable": true
   },
   "source": [
    "algorithm: \n",
    "- make a graph sample \n",
    "- compute distance matrix of the sample (NxN)\n",
    "- isolate the driver nodes \n",
    "    - find nearest neighbor pairs from driver submatrix \n",
    "- take a random sample of nodes (random submatrix (N_DxN_D) )\n",
    "    \n",
    "function: \n",
    "- find the nearest neighbors (by euclidean distance) of each node in a set of nodes     "
   ]
  },
  {
   "cell_type": "code",
   "execution_count": 74,
   "metadata": {
    "collapsed": false,
    "deletable": true,
    "editable": true
   },
   "outputs": [],
   "source": [
    "# compute the distance matrix of a set of nodes \n",
    "# positions is an N x d matrix of floats  \n",
    "def compute_distance_matrix(positions):\n",
    "    \n",
    "    # number of nodes \n",
    "    n = len(positions)\n",
    "    # number of dimensions \n",
    "    dim = len(positions[0])\n",
    "    \n",
    "    d = np.zeros((n,n))\n",
    "    \n",
    "    # upper triangle \n",
    "    for i in xrange(n):\n",
    "        # some 'large' number for self distance\n",
    "        d[i][i] = 100\n",
    "        for j in xrange(i+1,n):\n",
    "            dij = 0 \n",
    "            # for each dimension \n",
    "            for k in xrange(dim):\n",
    "                # compute distance \n",
    "                dist = abs(positions[i][k] - positions[j][k])\n",
    "                dij += dist**2 \n",
    "                \n",
    "            # assign matrix element \n",
    "            d[i][j] = dij**0.5\n",
    "                \n",
    "    # symmetric \n",
    "    d = d + d.T \n",
    "    \n",
    "    return d \n"
   ]
  },
  {
   "cell_type": "code",
   "execution_count": 309,
   "metadata": {
    "collapsed": true
   },
   "outputs": [],
   "source": [
    "# given a distance matrix (list of lists), find the nearest neighbor pairs\n",
    "def find_nearest_neighbors(matrix):\n",
    "    \n",
    "    # number of nodes \n",
    "    n = len(matrix)\n",
    "    \n",
    "    pairs = []\n",
    "    distances = []\n",
    "    # loop over each row\n",
    "    for i in range(n):\n",
    "        # get min of the i'th row \n",
    "        val, idx = min((val, idx) for (idx, val) in enumerate(matrix[i]))\n",
    "        # check if the pair is already found -- only want unique distances \n",
    "        if [idx,i] in pairs:\n",
    "            pass\n",
    "        else:\n",
    "            pairs.append([i,idx])\n",
    "            distances.append(val)\n",
    "        \n",
    "    return np.array(distances) #, np.array(pairs) "
   ]
  },
  {
   "cell_type": "code",
   "execution_count": 310,
   "metadata": {
    "collapsed": true,
    "deletable": true,
    "editable": true
   },
   "outputs": [],
   "source": [
    "# given a distance matrix (list of lists), \n",
    "# find the mean of the 5% shortest nearest neighbor pairs\n",
    "\n",
    "def find_mean_nearest_neighbors(matrix):\n",
    "    \n",
    "    # number of nodes \n",
    "    n = len(matrix)\n",
    "    \n",
    "    pairs = []\n",
    "    nn_distances = []\n",
    "    # loop over each row\n",
    "    for i in range(n):\n",
    "        # get min of the i'th row \n",
    "        val, idx = min((val, idx) for (idx, val) in enumerate(matrix[i]))\n",
    "        \n",
    "        # check if the pair is already found -- only want unique distances \n",
    "        if [idx,i] in pairs:\n",
    "            pass\n",
    "        else:\n",
    "            pairs.append([i,idx])\n",
    "            nn_distances.append(val)\n",
    "        \n",
    "        # find shortest 5% of distances \n",
    "    cutoff_idx = int(math.ceil(0.05*len(nn_distances)))\n",
    "    mean_shortest = np.mean(nn_distances[0:cutoff_idx])\n",
    "        \n",
    "    return mean_shortest"
   ]
  },
  {
   "cell_type": "code",
   "execution_count": 308,
   "metadata": {
    "collapsed": false,
    "deletable": true,
    "editable": true
   },
   "outputs": [],
   "source": [
    "# pick a random submatrix of distances\n",
    "\n",
    "# input matrix and list of node locs \n",
    "def extract_submatrix(matrix,nodes):\n",
    "    return matrix[np.ix_(nodes,nodes)]\n",
    "\n",
    "# input matrix and size of random uniform sample \n",
    "def random_submatrix(matrix,num_nodes):\n",
    "    sample = np.sort(np.random.choice(len(matrix), num_nodes, replace=False))\n",
    "    return matrix[np.ix_(sample,sample)]"
   ]
  },
  {
   "cell_type": "markdown",
   "metadata": {
    "deletable": true,
    "editable": true
   },
   "source": [
    "## find nearest neighbor links in an RGG"
   ]
  },
  {
   "cell_type": "markdown",
   "metadata": {},
   "source": [
    "take the 5% shortest nearest neighbor distances \n",
    "\n",
    "mean of the closest 5% of distances over shuffles \n",
    "mean of the closest 5% of driver node distances \n",
    "\n",
    "you're losing a bit of power by mixing across trials\n",
    "fix a trial and then compute a statistic for that trial\n",
    "    subtract mean separation of bottom 5% of drivers from E(mean separation of bottom 5% of nodes)\n",
    "    E -- average over shuffles\n",
    "look at the distribution of this difference across trials\n",
    "\n",
    "if you have a repulsion effect then it'd show up in the shortest distances \n",
    "The minimum separation between any pair could work -- but it could be susceptible to outliers. \n",
    "You can see a touch of evidence for my claim in the histograms you provide.\n",
    "\n",
    "Yes -- I don't know what to expect for our summary statistics with degree -- but you can always take means across trials."
   ]
  },
  {
   "cell_type": "code",
   "execution_count": 311,
   "metadata": {
    "collapsed": true,
    "deletable": true,
    "editable": true
   },
   "outputs": [],
   "source": [
    "# make an ensemble with 1 sample \n",
    "kappa = 10\n",
    "n = 1000\n",
    "d = 2\n",
    "boundary = 'p'\n",
    "num_radii = 10\n",
    "num_samples = 10\n",
    "\n",
    "RGG = ng.RGGEnsemble(kappa,n,d, boundary=boundary,num_radii=num_radii)\n",
    "RGG.generate_samples(n=num_samples)\n",
    "sample = RGG.samples[0]"
   ]
  },
  {
   "cell_type": "code",
   "execution_count": 269,
   "metadata": {
    "collapsed": false,
    "deletable": true,
    "editable": true
   },
   "outputs": [
    {
     "name": "stdout",
     "output_type": "stream",
     "text": [
      "num drivers: 10\n"
     ]
    },
    {
     "data": {
      "text/plain": [
       "(array([ 1.97107962,  3.65471013,  3.75737053,  2.62810616,  1.47830971,\n",
       "         0.34904535,  0.22585287,  0.20532079,  0.02053208,  0.04106416]),\n",
       " array([ 0.01793439,  0.08771129,  0.15748818,  0.22726508,  0.29704198,\n",
       "         0.36681887,  0.43659577,  0.50637266,  0.57614956,  0.64592645,\n",
       "         0.71570335]),\n",
       " <a list of 10 Patch objects>)"
      ]
     },
     "execution_count": 269,
     "metadata": {},
     "output_type": "execute_result"
    },
    {
     "data": {
      "image/png": "[encoded data removed]",
      "text/plain": [
       "<matplotlib.figure.Figure at 0x115ec4490>"
      ]
     },
     "metadata": {},
     "output_type": "display_data"
    }
   ],
   "source": [
    "# for each trial (graph ensemble), find mean over 100 shuffles \n",
    "# store the difference in means of the shortest 5% for each graph ensemble and the shortest driver 5% \n",
    "for sample in RGG.samples:\n",
    "    # get positions \n",
    "    pos = sample.positions\n",
    "\n",
    "    # find the distance matrix\n",
    "    d_mat = compute_distance_matrix(pos)\n",
    "\n",
    "    # get the distance matrix of the driver nodes \n",
    "    drivers = sample.find_unmatched()\n",
    "    num_drivers = len(drivers)\n",
    "\n",
    "    # extract driver node distance submatrix \n",
    "    driver_matrix = extract_submatrix(d_mat,drivers)\n",
    "    # find nearest neighbor distances  \n",
    "    driver_shortests = find_mean_nearest_neighbors(driver_matrix)\n",
    "\n",
    "    # draw random samples from the d_matrix \n",
    "    num_samples = 100\n",
    "    sample_nnd = []\n",
    "    for i in xrange(num_samples):\n",
    "        sample_matrix = random_submatrix(d_mat,num_drivers)\n",
    "        sample_nnd.extend(find_nearest_neighbors(sample_matrix))\n",
    "\n",
    "plt.hist(driver_nnd,normed=1)\n",
    "plt.hist(sample_nnd,alpha=0.5,normed=1)"
   ]
  },
  {
   "cell_type": "code",
   "execution_count": null,
   "metadata": {
    "collapsed": true,
    "deletable": true,
    "editable": true
   },
   "outputs": [],
   "source": []
  }
 ],
 "metadata": {
  "kernelspec": {
   "display_name": "Python 2",
   "language": "python",
   "name": "python2"
  },
  "language_info": {
   "codemirror_mode": {
    "name": "ipython",
    "version": 2
   },
   "file_extension": ".py",
   "mimetype": "text/x-python",
   "name": "python",
   "nbconvert_exporter": "python",
   "pygments_lexer": "ipython2",
   "version": "2.7.13"
  },
  "latex_envs": {
   "LaTeX_envs_menu_present": true,
   "autocomplete": true,
   "bibliofile": "biblio.bib",
   "cite_by": "apalike",
   "current_citInitial": 1,
   "eqLabelWithNumbers": true,
   "eqNumInitial": 1,
   "hotkeys": {
    "equation": "Ctrl-E",
    "itemize": "Ctrl-I"
   },
   "labels_anchors": false,
   "latex_user_defs": false,
   "report_style_numbering": false,
   "user_envs_cfg": false
  }
 },
 "nbformat": 4,
 "nbformat_minor": 2
}
