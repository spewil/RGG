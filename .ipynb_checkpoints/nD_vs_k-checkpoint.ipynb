{
 "cells": [
  {
   "cell_type": "code",
   "execution_count": 1,
   "metadata": {
    "collapsed": false,
    "deletable": true,
    "editable": true
   },
   "outputs": [],
   "source": [
    "%matplotlib inline\n",
    "import numpy as np \n",
    "import experiment as ex\n",
    "from network_generation import generation as ng\n",
    "import matplotlib.pyplot as plt\n",
    "import pickle"
   ]
  },
  {
   "cell_type": "code",
   "execution_count": 3,
   "metadata": {
    "collapsed": true,
    "deletable": true,
    "editable": true
   },
   "outputs": [],
   "source": [
    "def find_ER_nD(kappa, plot=False):\n",
    "        \n",
    "    # make sure this is a float!\n",
    "    z0 = float(kappa/2)\n",
    "    w1irange = np.arange(0,1,.01)\n",
    "    w1o = lambda x: np.exp(-z0*np.exp(-z0*x))\n",
    "    w1i = lambda y: -(1/z0)*np.log((1/z0)*np.log(1/y))\n",
    "\n",
    "    if plot:\n",
    "        plt.figure()\n",
    "        plt.plot(w1irange,[w1o(i) for i in w1irange])\n",
    "        plt.plot(w1irange,w1irange,'k-')\n",
    "        \n",
    "        w1o = lambda x: np.exp(-z0*np.exp(-z0*x))\n",
    "    w1i = lambda y: -(1/z0)*np.log((1/z0)*np.log(1/y))\n",
    "    \n",
    "    # BABY NEWTON METHOD \n",
    "    xold = 0.5\n",
    "    yold = 0.5\n",
    "    check = 100\n",
    "    while abs(check)>0.001:\n",
    "\n",
    "        # move up\n",
    "        ynew = w1o(xold)\n",
    "        # move right \n",
    "        xnew = ynew\n",
    "        \n",
    "        if plot: \n",
    "            plt.plot((xold,xold),(yold,ynew),'r-')\n",
    "            plt.plot((xold,xnew),(ynew,ynew),'r-')\n",
    "\n",
    "        # compute check \n",
    "        check = xold - xnew \n",
    "\n",
    "        # update for next iteration\n",
    "        xold = xnew \n",
    "        yold = ynew\n",
    "\n",
    "    w1 = xnew \n",
    "    w2 = 1 - np.exp(-z0*w1)\n",
    "    nD = w1 - w2 + z0*w1*(1-w2)\n",
    "\n",
    "    return nD"
   ]
  },
  {
   "cell_type": "code",
   "execution_count": 4,
   "metadata": {
    "collapsed": true,
    "deletable": true,
    "editable": true
   },
   "outputs": [],
   "source": [
    "# GENERATE ER DATA \n",
    "\n",
    "kappa_range = kappa_range = [1,3,5,10,15,20]\n",
    "num_samples = 10\n",
    "\n",
    "n_range = [3000]\n",
    "for kappa in kappa_range:\n",
    "    for n in n_range:\n",
    "        # make an ER Ensemble\n",
    "        ER = ng.EREnsemble(kappa,n)\n",
    "\n",
    "        # generate samples \n",
    "        # sample data is stored in the object \n",
    "        ER.generate_samples(n=num_samples)\n",
    "\n",
    "        # data to disk \n",
    "        ER.to_disk()"
   ]
  },
  {
   "cell_type": "code",
   "execution_count": null,
   "metadata": {
    "collapsed": true,
    "deletable": true,
    "editable": true
   },
   "outputs": [],
   "source": [
    "# GENERATE RGG DATA \n",
    "\n",
    "kappa_range = kappa_range = [1,3,5,10,15,20]\n",
    "n_range = [3000]\n",
    "d_range = [10]\n",
    "boundaries = ['s','p','g']\n",
    "num_samples = 10\n",
    "\n",
    "print 'running ' + str(len(n_range)*len(d_range)*len(boundaries)*len(kappa_range)) + ' generations'\n",
    "\n",
    "i=1\n",
    "for kappa in kappa_range:\n",
    "    for n in n_range:\n",
    "        for d in d_range:\n",
    "            for boundary in boundaries: \n",
    "                RGG = ng.RGGEnsemble(kappa, n, d, boundary=boundary, num_radii=3)\n",
    "                RGG.generate_samples(n=num_samples)\n",
    "                # data to disk \n",
    "                RGG.to_disk()\n",
    "                print 'saved run ' + str(i)\n",
    "                i+=1 "
   ]
  },
  {
   "cell_type": "code",
   "execution_count": 5,
   "metadata": {
    "collapsed": false,
    "deletable": true,
    "editable": true
   },
   "outputs": [
    {
     "name": "stdout",
     "output_type": "stream",
     "text": [
      "ER sim done\n",
      "ER theory done\n",
      "2th dimension done\n",
      "3th dimension done\n",
      "6th dimension done\n",
      "9th dimension done\n"
     ]
    },
    {
     "data": {
      "image/png": "[encoded data removed]",
      "text/plain": [
       "<matplotlib.figure.Figure at 0x1062190d0>"
      ]
     },
     "metadata": {},
     "output_type": "display_data"
    }
   ],
   "source": [
    "plt.figure()\n",
    "\n",
    "# load and plot ER data \n",
    "kappa_range = [1,3,5,10,15,20]\n",
    "n = 100\n",
    "\n",
    "ERE = ex.ERExperiment(kappa_range, n, find_scaling=False)\n",
    "plt.errorbar(ERE.mean_degree_list,ERE.mean_nD_list,fmt='ro',markersize=3,ecolor='r',xerr=ERE.std_degree_list,yerr=ERE.std_nD_list)\n",
    "\n",
    "print 'ER sim done'    \n",
    "    \n",
    "# plot theory \n",
    "kappa_ranget = np.arange(.1,22,.01)\n",
    "nD_list = []\n",
    "for kappa in kappa_ranget:\n",
    "    nD_list.append(find_ER_nD(kappa))\n",
    "plt.plot(kappa_ranget,nD_list,'k--')    \n",
    "\n",
    "print 'ER theory done'\n",
    "\n",
    "## SOLID \n",
    "d_range = [2,3,6,9]\n",
    "for d in d_range:\n",
    "    RGGE = ex.RGGExperiment(kappa_range, n, d, shortcut_prob=0, boundary='s',find_scaling=False)\n",
    "    plt.errorbar(RGGE.mean_degree_list, RGGE.mean_nD_list, fmt='none', yerr=RGGE.std_nD_list, xerr=RGGE.std_degree_list)\n",
    "    print str(d) +'th dimension done'\n",
    "    \n",
    "plt.title('$k$ vs. $n_D$ solid BC')\n",
    "plt.xlabel('Mean Average Degree $\\\\langle{k}\\\\rangle$')\n",
    "plt.ylabel('Fraction of Driver Nodes $n_D$')\n",
    "legend_string = ['d='+str(d) for d in d_range]\n",
    "legend_string.append('ER Theory')\n",
    "legend_string.append('ER Sim')\n",
    "legend_string.reverse()\n",
    "plt.legend(legend_string)\n",
    "plt.tight_layout()\n",
    "plt.savefig('./plots/k_nD_s_N' + str(n) + '.eps',dpi=800)"
   ]
  },
  {
   "cell_type": "code",
   "execution_count": 22,
   "metadata": {
    "collapsed": false,
    "deletable": true,
    "editable": true
   },
   "outputs": [
    {
     "name": "stdout",
     "output_type": "stream",
     "text": [
      "ER sim done\n",
      "ER theory done\n",
      "2th dimension done\n",
      "3th dimension done\n",
      "6th dimension done\n",
      "9th dimension done\n"
     ]
    },
    {
     "data": {
      "image/png": "[encoded data removed]",
      "text/plain": [
       "<matplotlib.figure.Figure at 0x10dbfead0>"
      ]
     },
     "metadata": {},
     "output_type": "display_data"
    }
   ],
   "source": [
    "plt.figure(2)\n",
    "\n",
    "# load and plot ER data \n",
    "kappa_range = [1,3,5,10,15,20]\n",
    "n = 100\n",
    "\n",
    "ERE = ex.ERExperiment(kappa_range, n, find_scaling=False)\n",
    "plt.errorbar(ERE.mean_degree_list,ERE.mean_nD_list,fmt='ro',markersize=3,ecolor='r',xerr=ERE.std_degree_list,yerr=ERE.std_nD_list)\n",
    "\n",
    "print 'ER sim done'    \n",
    "    \n",
    "# plot theory \n",
    "kappa_ranget = np.arange(.1,22,.01)\n",
    "nD_list = []\n",
    "for kappa in kappa_ranget:\n",
    "    nD_list.append(find_nD(kappa))\n",
    "plt.plot(kappa_ranget,nD_list,'k--')    \n",
    "\n",
    "print 'ER theory done'\n",
    "\n",
    "## PERIODIC \n",
    "d_range = [2,3,6,9]\n",
    "for d in d_range:\n",
    "    RGGE = ex.RGGExperiment(kappa_range, n, d, shortcut_prob=0, boundary='p',find_scaling=False)\n",
    "    plt.errorbar(RGGE.mean_degree_list, RGGE.mean_nD_list, fmt='none', yerr=RGGE.std_nD_list, xerr=RGGE.std_degree_list)\n",
    "    print str(d) +'th dimension done'\n",
    " \n",
    "plt.title('$k$ vs. $n_D$ periodic BC')\n",
    "plt.xlabel('Mean Average Degree $\\\\langle{k}\\\\rangle$')\n",
    "plt.ylabel('Fraction of Driver Nodes $n_D$')\n",
    "legend_string = ['d='+str(d) for d in d_range]\n",
    "legend_string.append('ER Theory')\n",
    "legend_string.append('ER Sim')\n",
    "legend_string.reverse()\n",
    "plt.legend(legend_string)\n",
    "plt.tight_layout()\n",
    "plt.savefig('./plots/k_nD_p_N' + str(n) + '.eps',dpi=800)"
   ]
  },
  {
   "cell_type": "code",
   "execution_count": 24,
   "metadata": {
    "collapsed": false,
    "deletable": true,
    "editable": true
   },
   "outputs": [
    {
     "name": "stdout",
     "output_type": "stream",
     "text": [
      "ER sim done\n",
      "ER theory done\n",
      "2th dimension done\n",
      "3th dimension done\n",
      "6th dimension done\n",
      "9th dimension done\n"
     ]
    },
    {
     "data": {
      "image/png": "[encoded data removed]",
      "text/plain": [
       "<matplotlib.figure.Figure at 0x10dba86d0>"
      ]
     },
     "metadata": {},
     "output_type": "display_data"
    }
   ],
   "source": [
    "plt.figure(3)\n",
    "\n",
    "# load and plot ER data \n",
    "kappa_range = [1,3,5,10,15,20]\n",
    "n = 1000\n",
    "\n",
    "ERE = ex.ERExperiment(kappa_range, n, find_scaling=False)\n",
    "plt.errorbar(ERE.mean_degree_list,ERE.mean_nD_list,fmt='ro',markersize=3,ecolor='r',xerr=ERE.std_degree_list,yerr=ERE.std_nD_list)\n",
    "\n",
    "print 'ER sim done'    \n",
    "    \n",
    "# plot theory \n",
    "kappa_ranget = np.arange(.1,22,.01)\n",
    "nD_list = []\n",
    "for kappa in kappa_ranget:\n",
    "    nD_list.append(find_nD(kappa))\n",
    "plt.plot(kappa_ranget,nD_list,'k--')    \n",
    "\n",
    "print 'ER theory done'\n",
    "\n",
    "## GAUSSIAN \n",
    "d_range = [2,3,6,9]\n",
    "for d in d_range:\n",
    "    RGGE = ex.RGGExperiment(kappa_range, n, d, shortcut_prob=0, boundary='g',find_scaling=False)\n",
    "    plt.errorbar(RGGE.mean_degree_list, RGGE.mean_nD_list, fmt='none', yerr=RGGE.std_nD_list, xerr=RGGE.std_degree_list)\n",
    "    print str(d) +'th dimension done'\n",
    " \n",
    "plt.title('$k$ vs. $n_D$ Gaussian')\n",
    "plt.xlabel('Mean Average Degree $\\\\langle{k}\\\\rangle$')\n",
    "plt.ylabel('Fraction of Driver Nodes $n_D$')\n",
    "legend_string = ['d='+str(d) for d in d_range]\n",
    "legend_string.append('ER Theory')\n",
    "legend_string.append('ER Sim')\n",
    "legend_string.reverse()\n",
    "plt.legend(legend_string)\n",
    "plt.tight_layout()\n",
    "plt.savefig('./plots/k_nD_g_N' + str(n) + '.eps',dpi=800)"
   ]
  },
  {
   "cell_type": "markdown",
   "metadata": {
    "deletable": true,
    "editable": true
   },
   "source": [
    "# Scatter Plots "
   ]
  },
  {
   "cell_type": "code",
   "execution_count": 8,
   "metadata": {
    "collapsed": false,
    "deletable": true,
    "editable": true
   },
   "outputs": [
    {
     "name": "stdout",
     "output_type": "stream",
     "text": [
      "3th dimension done\n"
     ]
    },
    {
     "data": {
      "image/png": "[encoded data removed]",
      "text/plain": [
       "<matplotlib.figure.Figure at 0x109eb44d0>"
      ]
     },
     "metadata": {},
     "output_type": "display_data"
    }
   ],
   "source": [
    "%matplotlib inline \n",
    "import numpy as np\n",
    "import matplotlib.pyplot as plt \n",
    "import experiment as ex\n",
    "from network_generation import generation as ng\n",
    "from scipy import optimize\n",
    "from scipy.odr import * \n",
    "\n",
    "plt.figure()\n",
    "\n",
    "# FITTING MODEL\n",
    "def f(B, x):\n",
    "    return np.exp(B[0]*x)\n",
    "\n",
    "kappa_range = [1,3,5,10,15,20]\n",
    "kappa_range_fine = np.arange(.1,22,.01)\n",
    "n = 1000\n",
    "num_radii = 10\n",
    "boundary = 's'\n",
    "d_range = [3] #[2,3,6,9,15,25,40]\n",
    "\n",
    "gammas = []\n",
    "gamma_errs = []\n",
    "\n",
    "colors = ['ro','bo','go','co','ko','yo','mo']\n",
    "i=0\n",
    "for d in d_range:\n",
    "    RGG = ex.RGGExperiment(kappa_range, n, d, shortcut_prob=0, boundary=boundary, num_radii=num_radii)\n",
    "\n",
    "    for ensemble in RGG.ensembles:\n",
    "        for sample in ensemble.samples:\n",
    "            data, = plt.plot(sample.mean_degree(),float(sample.find_num_unmatched())/sample.n,colors[i],markersize=2)\n",
    "    \n",
    "    x = RGG.mean_degree_list\n",
    "    y = RGG.mean_nD_list \n",
    "#     plt.errorbar(x, y, fmt='none', yerr=RGG.std_nD_list, xerr=RGG.std_degree_list)\n",
    "    # fitting \n",
    "    # popt = optimize.curve_fit(lambda t,b:np.exp(b*t), RGG.mean_degree_list, RGG.mean_nD_list)\n",
    "    wx = [s+1 for s in RGG.std_degree_list]\n",
    "    wy = [s+1 for s in RGG.std_nD_list] \n",
    "    \n",
    "    output = odr(f,[-0.5],y,x,wd=wx,we=wy)\n",
    "    \n",
    "    fit, = plt.plot(kappa_range_fine,f(output[0],kappa_range_fine),'b--')\n",
    "    gammas.append(output[0][0])\n",
    "    # 95% confidence is 2*standard error \n",
    "    gamma_errs.append(2*(output[1][0]))\n",
    "    print str(d) +'th dimension done'\n",
    "    \n",
    "    i+=1 \n",
    "\n",
    "plt.title('$k$ vs. $n_D$ Solid $d$=3')\n",
    "plt.xlabel('Mean Average Degree $\\\\langle{k}\\\\rangle$')\n",
    "plt.ylabel('Fraction of Driver Nodes $n_D$')\n",
    "plt.legend([data,fit],['Sample Data', 'ODR Fit'])\n",
    "plt.tight_layout()\n",
    "plt.savefig('./plots/scatter_k_nD_g_N' + str(n) + '.eps',dpi=800)"
   ]
  },
  {
   "cell_type": "markdown",
   "metadata": {
    "collapsed": true,
    "deletable": true,
    "editable": true
   },
   "source": [
    "## $n_D$ v. $d$ for a single $\\langle\\kappa\\rangle$ "
   ]
  },
  {
   "cell_type": "code",
   "execution_count": 2,
   "metadata": {
    "collapsed": true,
    "deletable": true,
    "editable": true
   },
   "outputs": [],
   "source": [
    "from scipy import stats"
   ]
  },
  {
   "cell_type": "code",
   "execution_count": 10,
   "metadata": {
    "collapsed": false,
    "deletable": true,
    "editable": true
   },
   "outputs": [
    {
     "name": "stdout",
     "output_type": "stream",
     "text": [
      "ER done\n",
      "k = 10 done\n",
      "k = 10 done\n"
     ]
    },
    {
     "data": {
      "image/png": "[encoded data removed]",
      "text/plain": [
       "<matplotlib.figure.Figure at 0x13e4e3550>"
      ]
     },
     "metadata": {},
     "output_type": "display_data"
    }
   ],
   "source": [
    "kappa_range = [10]\n",
    "boundaries = ['s','p']\n",
    "n = 100\n",
    "d_range = [2,3,6,9,15,25]\n",
    "\n",
    "fig = plt.figure()\n",
    "ax = fig.add_subplot(1,1,1)\n",
    "\n",
    "# ER data \n",
    "color = 'k'\n",
    "ERE = ex.ERExperiment(kappa_range, n)\n",
    "ERE.to_LCC()        \n",
    "nD_mean = np.mean(ERE.ensembles[0].find_nD_list_LCC())\n",
    "nD_std = stats.sem(ERE.ensembles[0].find_nD_list_LCC())\n",
    "ax.plot([min(d_range), max(d_range)],[nD_mean, nD_mean],color+'-',label='ER')\n",
    "ax.plot([min(d_range), max(d_range)],[nD_mean+nD_std, nD_mean+nD_std],color+'--')\n",
    "ax.plot([min(d_range), max(d_range)],[nD_mean-nD_std, nD_mean-nD_std],color+'--')\n",
    "\n",
    "print 'ER done'\n",
    "\n",
    "# RGG data\n",
    "for boundary in boundaries:\n",
    "    \n",
    "    if boundary == 's':\n",
    "        BC = 'Solid'\n",
    "        color = 'r'\n",
    "    else:\n",
    "        BC = 'Periodic'\n",
    "        color = 'b'\n",
    "        \n",
    "    for kappa in kappa_range:\n",
    "        nD_means = []\n",
    "        nD_stds = []\n",
    "        for d in d_range:\n",
    "            RGG = ex.RGGExperiment([kappa], n, d, shortcut_prob=0, boundary=boundary, num_radii=10)\n",
    "            RGG.to_LCC()        \n",
    "            nD_means.append(np.mean(RGG.ensembles[0].find_nD_list_LCC()))\n",
    "            nD_stds.append(stats.sem(RGG.ensembles[0].find_nD_list_LCC()))\n",
    "\n",
    "        print \"k = \" + str(kappa) + ' done'\n",
    "\n",
    "    ax.errorbar(d_range,nD_means,yerr=nD_stds,label=BC,fmt=color+'-')\n",
    "\n",
    "handles, labels = ax.get_legend_handles_labels()\n",
    "ax.set_xlabel('Dimension $d$')\n",
    "ax.set_ylabel('Mean $n_D$')\n",
    "ax.legend(handles,labels)\n",
    "\n",
    "fig.savefig('./plots/nD_k_'+str(kappa)+'_'+str(boundary)+'_N_'+str(n)+'.eps')"
   ]
  }
 ],
 "metadata": {
  "kernelspec": {
   "display_name": "Python 2",
   "language": "python",
   "name": "python2"
  },
  "language_info": {
   "codemirror_mode": {
    "name": "ipython",
    "version": 2
   },
   "file_extension": ".py",
   "mimetype": "text/x-python",
   "name": "python",
   "nbconvert_exporter": "python",
   "pygments_lexer": "ipython2",
   "version": "2.7.13"
  },
  "latex_envs": {
   "LaTeX_envs_menu_present": true,
   "autocomplete": true,
   "bibliofile": "biblio.bib",
   "cite_by": "apalike",
   "current_citInitial": 1,
   "eqLabelWithNumbers": true,
   "eqNumInitial": 1,
   "hotkeys": {
    "equation": "Ctrl-E",
    "itemize": "Ctrl-I"
   },
   "labels_anchors": false,
   "latex_user_defs": false,
   "report_style_numbering": false,
   "user_envs_cfg": false
  }
 },
 "nbformat": 4,
 "nbformat_minor": 2
}
